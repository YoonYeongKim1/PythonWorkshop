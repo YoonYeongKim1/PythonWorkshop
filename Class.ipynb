{
 "cells": [
  {
   "cell_type": "code",
   "execution_count": 1,
   "id": "d42a243f",
   "metadata": {
    "scrolled": true
   },
   "outputs": [
    {
     "name": "stdout",
     "output_type": "stream",
     "text": [
      "['In', 'Out', 'PyTestClass', '_', '__', '___', '__builtin__', '__builtins__', '__doc__', '__loader__', '__name__', '__package__', '__spec__', '_dh', '_i', '_i1', '_ih', '_ii', '_iii', '_oh', 'exit', 'get_ipython', 'quit']\n",
      "<class 'type'>\n"
     ]
    }
   ],
   "source": [
    "class PyTestClass:\n",
    "    \"\"\"It's for Test Class\"\"\"\n",
    "    pass\n",
    "\n",
    "print(dir())\n",
    "print(type(PyTestClass))\n"
   ]
  },
  {
   "cell_type": "code",
   "execution_count": 2,
   "id": "a52f14a6",
   "metadata": {
    "scrolled": false
   },
   "outputs": [
    {
     "name": "stdout",
     "output_type": "stream",
     "text": [
      "My name is Default\n",
      "My name is 파이썬3 테스트 클래스\n",
      "My name is 파이썬3 테스트 클래스\n"
     ]
    }
   ],
   "source": [
    "class Person:\n",
    "    Name = \"Default\"\n",
    "    \n",
    "    # self = this\n",
    "    def Print(self):\n",
    "        print(\"My name is {0}\".format(self.Name))\n",
    "        \n",
    "p = Person()\n",
    "p.Print()\n",
    "\n",
    "p.Name = \"파이썬3 테스트 클래스\"\n",
    "p.Print()\n",
    "Person.Print(p)"
   ]
  },
  {
   "cell_type": "code",
   "execution_count": 3,
   "id": "dd206ea8",
   "metadata": {},
   "outputs": [
    {
     "name": "stdout",
     "output_type": "stream",
     "text": [
      "p Name:  파이썬3 테스트 클래스\n",
      "p2 Name:  Default\n",
      "p tilte:  Python3 테스트\n",
      "p2 tilte:  Python3 테스트\n",
      "Person title:  Python3 테스트\n",
      "p age:  20\n"
     ]
    }
   ],
   "source": [
    "p2 = Person()\n",
    "\n",
    "print(\"p Name: \", p.Name)\n",
    "print(\"p2 Name: \", p2.Name)\n",
    "\n",
    "Person.title = \"Python3 테스트\"\n",
    "print(\"p tilte: \", p.title)\n",
    "print(\"p2 tilte: \", p2.title)\n",
    "print(\"Person title: \", Person.title)\n",
    "\n",
    "p.age = 20\n",
    "print(\"p age: \", p.age)"
   ]
  },
  {
   "cell_type": "code",
   "execution_count": 4,
   "id": "dd97f202",
   "metadata": {},
   "outputs": [
    {
     "ename": "AttributeError",
     "evalue": "type object 'Person' has no attribute 'age'",
     "output_type": "error",
     "traceback": [
      "\u001b[1;31m---------------------------------------------------------------------------\u001b[0m",
      "\u001b[1;31mAttributeError\u001b[0m                            Traceback (most recent call last)",
      "\u001b[1;32m<ipython-input-4-fab5aa44c49c>\u001b[0m in \u001b[0;36m<module>\u001b[1;34m\u001b[0m\n\u001b[1;32m----> 1\u001b[1;33m \u001b[0mprint\u001b[0m\u001b[1;33m(\u001b[0m\u001b[1;34m\"Person age: \"\u001b[0m\u001b[1;33m,\u001b[0m \u001b[0mPerson\u001b[0m\u001b[1;33m.\u001b[0m\u001b[0mage\u001b[0m\u001b[1;33m)\u001b[0m\u001b[1;33m\u001b[0m\u001b[1;33m\u001b[0m\u001b[0m\n\u001b[0m",
      "\u001b[1;31mAttributeError\u001b[0m: type object 'Person' has no attribute 'age'"
     ]
    }
   ],
   "source": [
    "print(\"Person age: \", Person.age)"
   ]
  },
  {
   "cell_type": "code",
   "execution_count": 4,
   "id": "c5844904",
   "metadata": {},
   "outputs": [
    {
     "name": "stdout",
     "output_type": "stream",
     "text": [
      "클래스 멤버 아님\n",
      "테스트 메세지\n"
     ]
    }
   ],
   "source": [
    "str1 = \"클래스 멤버 아님\"\n",
    "\n",
    "class NonSelfTest:\n",
    "    str1 = \"\"\n",
    "    \n",
    "    def Set(self,msg):\n",
    "        self.str1 = msg\n",
    "        \n",
    "    def Print(self):\n",
    "        print(str1)\n",
    "        \n",
    "    def WhyUseSelfPrint(self):\n",
    "        print(self.str1)\n",
    "        \n",
    "test = NonSelfTest()\n",
    "\n",
    "test.Set(\"테스트 메세지\")\n",
    "test.Print()\n",
    "test.WhyUseSelfPrint()"
   ]
  },
  {
   "cell_type": "code",
   "execution_count": 5,
   "id": "c1fa7308",
   "metadata": {},
   "outputs": [
    {
     "name": "stdout",
     "output_type": "stream",
     "text": [
      "생성자! Value =  333\n",
      "소멸자!\n",
      "누가 먼저냐 ?\n"
     ]
    }
   ],
   "source": [
    "class Vehicles:\n",
    "    def __init__(self, value):\n",
    "        self.Value = value\n",
    "        print(\"생성자! Value = \", value)\n",
    "        \n",
    "    def __del__(self):\n",
    "        print(\"소멸자!\")\n",
    "        \n",
    "def test():\n",
    "    v = Vehicles(333);\n",
    "    \n",
    "test()\n",
    "print(\"누가 먼저냐 ?\")"
   ]
  },
  {
   "cell_type": "code",
   "execution_count": 6,
   "id": "2add9386",
   "metadata": {},
   "outputs": [
    {
     "name": "stdout",
     "output_type": "stream",
     "text": [
      "Info(name: Maron, phone num: 045-607-1852)\n",
      "{'name': 'Maron', 'phoneNum': '045-607-1852'}\n",
      "{'name': 'Lunar', 'phoneNum': '406-708-3821', 'subject': 'Electronic Engineering', 'studentId': '7283492'}\n"
     ]
    }
   ],
   "source": [
    "class Person:\n",
    "    def __init__(self, name, phoneNum):\n",
    "        self.name = name\n",
    "        self.phoneNum = phoneNum\n",
    "        \n",
    "    def printInfo(self):\n",
    "        print(\"Info(name: {0}, phone num: {1})\".format(self.name, self.phoneNum))\n",
    "\n",
    "# Java extends 상속\n",
    "# Python은 클래스(상속할 클래스명)\n",
    "class Student(Person):\n",
    "    def __init__(self, name, phoneNum, subject, studentId):\n",
    "        self.name = name\n",
    "        self.phoneNum = phoneNum\n",
    "        self.subject = subject\n",
    "        self.studentId = studentId\n",
    "        \n",
    "p = Person(\"Maron\", \"045-607-1852\")\n",
    "s = Student(\"Lunar\", \"406-708-3821\", \"Electronic Engineering\", \"7283492\")\n",
    "\n",
    "p.printInfo()\n",
    "\n",
    "print(p.__dict__)\n",
    "print(s.__dict__)"
   ]
  },
  {
   "cell_type": "code",
   "execution_count": 8,
   "id": "6385d612",
   "metadata": {},
   "outputs": [
    {
     "ename": "NameError",
     "evalue": "name 'Child' is not defined",
     "output_type": "error",
     "traceback": [
      "\u001b[1;31m---------------------------------------------------------------------------\u001b[0m",
      "\u001b[1;31mNameError\u001b[0m                                 Traceback (most recent call last)",
      "\u001b[1;32m<ipython-input-8-e0c4f32dae40>\u001b[0m in \u001b[0;36m<module>\u001b[1;34m\u001b[0m\n\u001b[0;32m     15\u001b[0m         \u001b[0msuper\u001b[0m\u001b[1;33m(\u001b[0m\u001b[0mTest\u001b[0m\u001b[1;33m,\u001b[0m \u001b[0mself\u001b[0m\u001b[1;33m)\u001b[0m\u001b[1;33m.\u001b[0m\u001b[0mprintMsg\u001b[0m\u001b[1;33m(\u001b[0m\u001b[1;33m)\u001b[0m\u001b[1;33m\u001b[0m\u001b[1;33m\u001b[0m\u001b[0m\n\u001b[0;32m     16\u001b[0m \u001b[1;33m\u001b[0m\u001b[0m\n\u001b[1;32m---> 17\u001b[1;33m \u001b[0mc\u001b[0m \u001b[1;33m=\u001b[0m \u001b[0mChild\u001b[0m\u001b[1;33m(\u001b[0m\u001b[1;36m3\u001b[0m\u001b[1;33m)\u001b[0m\u001b[1;33m\u001b[0m\u001b[1;33m\u001b[0m\u001b[0m\n\u001b[0m\u001b[0;32m     18\u001b[0m \u001b[0mc\u001b[0m\u001b[1;33m.\u001b[0m\u001b[0mprintMsg\u001b[0m\u001b[1;33m(\u001b[0m\u001b[1;33m)\u001b[0m\u001b[1;33m\u001b[0m\u001b[1;33m\u001b[0m\u001b[0m\n\u001b[0;32m     19\u001b[0m \u001b[1;33m\u001b[0m\u001b[0m\n",
      "\u001b[1;31mNameError\u001b[0m: name 'Child' is not defined"
     ]
    }
   ],
   "source": [
    "# super() 활용법\n",
    "class Parent(object):\n",
    "    def __init__(self, number):\n",
    "        self.Number = number\n",
    "        \n",
    "    def printMsg(self):\n",
    "        print(\"I'm Super Class\")\n",
    "        \n",
    "class Test(Parent):\n",
    "    def __init__(self, number):\n",
    "        super(Test, self).__init__(number)\n",
    "        \n",
    "    def printMsg(self):\n",
    "        print(\"I'm Sub Class: [%s]\" % str(self.Number))\n",
    "        super(Test, self).printMsg()\n",
    "        \n",
    "c = Child(3)\n",
    "c.printMsg()\n",
    "\n",
    "print(c.__dict__)"
   ]
  },
  {
   "cell_type": "code",
   "execution_count": 9,
   "id": "0e7e8c3d",
   "metadata": {},
   "outputs": [
    {
     "name": "stdout",
     "output_type": "stream",
     "text": [
      "79 0.9838790385996955\n",
      "78 0.010719736270711766\n",
      "39 0.9969713696551585\n",
      "85 0.063922863093261\n",
      "33 0.7762620624821318\n",
      "5 0.9384369811550988\n",
      "81 0.2529584687937073\n",
      "3 0.22096898460164016\n",
      "12 0.45559816569555844\n",
      "64 0.4722657503255946\n",
      "7 0.1751325955698907\n",
      "34 0.21643389074872554\n",
      "72 0.610237342997286\n",
      "47 0.6484261659700319\n",
      "64 0.9595646651401948\n",
      "76 0.3010306120813184\n",
      "23 0.3246420456732292\n",
      "26 0.6135656627388943\n",
      "15 0.5687157381882963\n",
      "17 0.3534857431916183\n"
     ]
    }
   ],
   "source": [
    "# 파이썬 난수\n",
    "from random import *\n",
    "\n",
    "for i in range(20):\n",
    "    rand_int = randint(1, 100) # 시작, 끝\n",
    "    rand_float = random() # 0 ~ 1사이\n",
    "    print(rand_int, rand_float)"
   ]
  },
  {
   "cell_type": "code",
   "execution_count": null,
   "id": "4ed9e9e3",
   "metadata": {},
   "outputs": [],
   "source": [
    "# 숙제 1.\n",
    "# 1 ~ 100까지의 숫자중 3의 배수만 추려서 출력하도록\n",
    "# 클래스 및 매서드를 프로그래밍 하시오."
   ]
  },
  {
   "cell_type": "code",
   "execution_count": null,
   "id": "5d389f63",
   "metadata": {},
   "outputs": [],
   "source": [
    "# 숙제 2.\n",
    "# 주사위 게임을 플레이할 수 있도록 클래스 및 매서드를 작성하시오.\n",
    "# 주사위는 1개만 굴리도록 하며 승패 판정은 누가 더 높은 주사위 눈금을 가지느냐에 따라 갈린다."
   ]
  },
  {
   "cell_type": "code",
   "execution_count": null,
   "id": "41d1d898",
   "metadata": {},
   "outputs": [],
   "source": [
    "# 숙제 3.\n",
    "# 가상의 보드 게임을 만든다.\n",
    "# 한 바퀴를 도는데 총 주사위 눈금이 40칸 필요하다.\n",
    "# 1) 한 바퀴를 돌면 자금으로 100만원이 주어진다.\n",
    "# 2) 주사위의 특수 능력을 활용할 수 있다.\n",
    "#    2-1) 숫자 2: 모두의 자금에서 50만원을 깐다.\n",
    "#    2-2) 숫자 4: 자신의 자금의 5%가 증발한다.\n",
    "#    2-3) 숫자 6: 모두의 자금에 30만원을 추가한다.\n",
    "#    2-4) 모든 플레이어들이 주사위를 돌린 눈금이 짝수일 경우 비밀 상점이 열린다.\n",
    "#         비밀 상점 물품: 레드 티켓(지정한 상대의 주사위가 5턴 동안 정지함) - 100만원\n",
    "#                        옐로 티켓(지정한 상대ㅢ 주사위가 2턴간 정지함) - 50만원\n",
    "#                        카오스 티켓(아무나 한 명 2턴간 정지함) - 10만원\n",
    "#                        뽑기 티켓(1만원, 2만원, 5만원, 10만원, 20만원, 50만원, 100만원) - 10만원\n",
    "#                        연속 굴리기(1회, 2회, 3회, 4회) - 20만원\n",
    "#    2-5) 플레이어가 필드를 3바퀴 돌면 게임이 종료된다. (주사위 눈금 총 120칸 필요)\n",
    "#    2-6) 게임이 종료된 이후 가장 많은 자금을 가지고 있는 사람이 경기에 승리하게 된다.\n",
    "# 게임 팁: 1) 일단 돈을 많이 모은다\n",
    "#          2) 비밀 상점을 활용하여 대박(뽑기)을 노리거나 상대방을 행동 불능에 빠지게 한다.\n",
    "#          3) 유리한 상황에서 연속 굴리기를 통해 게임을 빠르게 끝내도록 유도한다.\n",
    "#          4) 다수가 함께 플레이 할 경우 연속 굴리기를 통해 정치도 가능하다 ?"
   ]
  }
 ],
 "metadata": {
  "kernelspec": {
   "display_name": "Python 3",
   "language": "python",
   "name": "python3"
  },
  "language_info": {
   "codemirror_mode": {
    "name": "ipython",
    "version": 3
   },
   "file_extension": ".py",
   "mimetype": "text/x-python",
   "name": "python",
   "nbconvert_exporter": "python",
   "pygments_lexer": "ipython3",
   "version": "3.8.8"
  }
 },
 "nbformat": 4,
 "nbformat_minor": 5
}
