{
 "cells": [
  {
   "cell_type": "code",
   "execution_count": null,
   "id": "0b7716eb",
   "metadata": {},
   "outputs": [],
   "source": [
    "# << 카카오톡 메세지 전송하기(조건 : 1. 카톡메세지 수신인과 카톡 친구 추가 되어있어야함.\n",
    "#                                    2. 팀원초대 : kakao developer > 내어플리케이션 > 앱설정 > 팀관리 > 팀원초대 > 앱권한 = EDITOR) >>\n",
    "\n",
    "# 1) 토큰값 발급 받기 (시크릿창 모드)\n",
    "\n",
    "# 문서 > 카카오 로그인 > REST API > '추가 항목 동의 받기' 검색 > [Request URL]\n",
    "# https://kauth.kakao.com/oauth/authorize?client_id={메세지 수신인의 REST_API_KEY}&redirect_uri={REDIRECT_URI}&response_type=code&scope=friends,talk_message"
   ]
  },
  {
   "cell_type": "code",
   "execution_count": 1,
   "id": "16b67ec8",
   "metadata": {},
   "outputs": [
    {
     "name": "stdout",
     "output_type": "stream",
     "text": [
      "{'access_token': '2LrZ26rrTg2HwU1glPsKAxgCnaj-YADu5CvRMAo9dGgAAAF8P05GbQ', 'token_type': 'bearer', 'refresh_token': '55Cys6Dvi5jdoCL3CRMyldJSzipN1fwhLN24Gwo9dGgAAAF8P05GbA', 'expires_in': 21599, 'scope': 'talk_message friends', 'refresh_token_expires_in': 5183999}\n"
     ]
    }
   ],
   "source": [
    "# 2) 발급 받은 토큰값, REST_API_키 데이터를 json형식으로 작성\n",
    "\n",
    "import requests\n",
    "\n",
    "url = \"https://kauth.kakao.com/oauth/token\"\n",
    "\n",
    "# data = {\n",
    "#    \"grant_type\" : \"authorization_code\",\n",
    "#    \"client_id\" : \"메세지 수신인의 REST_API_키\",\n",
    "#    \"redirect_uri\" : \"https://localhost.com\",\n",
    "#    \"code\" : \"발급받은 토큰값(주소)\"\n",
    "# }\n",
    "\n",
    "data = {\n",
    "    \"grant_type\" : \"authorization_code\",\n",
    "    \"client_id\" : \"보안보안보안\",\n",
    "    \"redirect_uri\" : \"https://localhost.com\",\n",
    "    \"code\" : \"w5AsAvleC-B-n7tBbqqm1baoWoj9pR2nak-QK3uAmCIYk343vkr2o8ZgleY0q0xeC7gCngopcSEAAAF8P0oOsw\"\n",
    "}\n",
    "\n",
    "response = requests.post(url, data=data)\n",
    "\n",
    "if response.status_code != 200:\n",
    "    print(\"Error!\")\n",
    "else:\n",
    "    tokens = response.json()\n",
    "    print(tokens)"
   ]
  },
  {
   "cell_type": "code",
   "execution_count": 2,
   "id": "d3abe776",
   "metadata": {},
   "outputs": [],
   "source": [
    "# 3) json 파일로 저장하기\n",
    "\n",
    "import json\n",
    "\n",
    "# Kakao Token 저장 파일\n",
    "KAKAO_FRIEND_TOKEN_SAVED_FILE = \"res/kakao_friend_msg/kakao_token.json\"\n",
    "\n",
    "# 저장\n",
    "def save_tokens(filename, tokens):\n",
    "    with open(filename, \"w\") as fp:\n",
    "        json.dump(tokens, fp)\n",
    "        \n",
    "# 읽기\n",
    "def load_tokens(filename):\n",
    "    with open(filename) as fp:\n",
    "        tokens = json.load(fp)\n",
    "        \n",
    "    return tokens\n",
    "\n",
    "# token 저장\n",
    "save_tokens(KAKAO_FRIEND_TOKEN_SAVED_FILE, tokens)\n",
    "\n",
    "# 폴더에 파일이 저장됐는지 확인"
   ]
  },
  {
   "cell_type": "code",
   "execution_count": 3,
   "id": "141d67e1",
   "metadata": {},
   "outputs": [
    {
     "name": "stdout",
     "output_type": "stream",
     "text": [
      "<class 'dict'>\n",
      "{'elements': [{'profile_nickname': '에디', 'profile_thumbnail_image': 'https://p.kakaocdn.net/th/talkp/wmxXrHTct1/xcri7QCe9K9eoLp7W41tyK/o0yp94_110x110_c.jpg', 'id': 1929743596, 'uuid': 'voq4j72Iuom_k6SWopKnlKyesoSwgLiAs-w', 'favorite': False}], 'total_count': 1, 'after_url': None, 'result_id': 'zbnYtN-AsoK6jrmNuYy65dPn1-_X5LvJrMui0aXAstez7IrrnfKA6Z34p5bJqMSo95zzrNrpGw', 'favorite_count': 0}\n",
      "=================================================\n",
      "[{'profile_nickname': '에디', 'profile_thumbnail_image': 'https://p.kakaocdn.net/th/talkp/wmxXrHTct1/xcri7QCe9K9eoLp7W41tyK/o0yp94_110x110_c.jpg', 'id': 1929743596, 'uuid': 'voq4j72Iuom_k6SWopKnlKyesoSwgLiAs-w', 'favorite': False}]\n",
      "=================================================\n",
      "voq4j72Iuom_k6SWopKnlKyesoSwgLiAs-w\n",
      "voq4j72Iuom_k6SWopKnlKyesoSwgLiAs-w\n"
     ]
    }
   ],
   "source": [
    "# 4) 친구 목록 가져오기\n",
    "\n",
    "import json\n",
    "import requests\n",
    "\n",
    "# 토큰 정보 활용\n",
    "tokens = load_tokens(KAKAO_FRIEND_TOKEN_SAVED_FILE)\n",
    "\n",
    "friends_url = \"https://kapi.kakao.com/v1/api/talk/friends\"\n",
    "\n",
    "headers = {\n",
    "    \"Authorization\" : \"Bearer \" + tokens['access_token']\n",
    "}\n",
    "\n",
    "res = json.loads(requests.get(friends_url, headers=headers).text)\n",
    "\n",
    "print(type(res))\n",
    "print(res)\n",
    "print(\"=================================================\")\n",
    "\n",
    "friends_list = res.get(\"elements\")\n",
    "print(friends_list)\n",
    "print(\"=================================================\")\n",
    "\n",
    "print(friends_list[0].get(\"uuid\"))\n",
    "fid = friends_list[0].get(\"uuid\")\n",
    "print(fid)"
   ]
  },
  {
   "cell_type": "code",
   "execution_count": 4,
   "id": "e1193dac",
   "metadata": {
    "scrolled": true
   },
   "outputs": [
    {
     "name": "stdout",
     "output_type": "stream",
     "text": [
      "200\n",
      "카톡 메시지 전송!\n"
     ]
    }
   ],
   "source": [
    "# 5) Kakao Talk Message 보내기\n",
    "fsend_url = \"https://kapi.kakao.com/v1/api/talk/friends/message/default/send\"\n",
    "\n",
    "data = {\n",
    "    'receiver_uuids' : '[\"{}\"]'.format(fid),\n",
    "    \"template_object\" : json.dumps({\n",
    "        \"object_type\" : \"text\",\n",
    "        \"text\" : \"안녕하세요^^ 에러해결되었습니다.\",\n",
    "        \"link\" : {\n",
    "            \"web_url\" : \"www.naver.com\"\n",
    "        }\n",
    "    })\n",
    "}\n",
    "\n",
    "# 메시지 전송\n",
    "response = requests.post(fsend_url, headers=headers, data=data)\n",
    "print(response.status_code)\n",
    "\n",
    "if response.status_code != 200:\n",
    "    print(\"Error!\")\n",
    "else:\n",
    "    print(\"카톡 메시지 전송!\")"
   ]
  },
  {
   "cell_type": "code",
   "execution_count": null,
   "id": "0153b5de",
   "metadata": {},
   "outputs": [],
   "source": []
  }
 ],
 "metadata": {
  "kernelspec": {
   "display_name": "Python 3",
   "language": "python",
   "name": "python3"
  },
  "language_info": {
   "codemirror_mode": {
    "name": "ipython",
    "version": 3
   },
   "file_extension": ".py",
   "mimetype": "text/x-python",
   "name": "python",
   "nbconvert_exporter": "python",
   "pygments_lexer": "ipython3",
   "version": "3.8.8"
  }
 },
 "nbformat": 4,
 "nbformat_minor": 5
}
