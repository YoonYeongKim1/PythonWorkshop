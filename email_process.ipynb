{
 "cells": [
  {
   "cell_type": "code",
   "execution_count": 1,
   "id": "dfc9bcc7",
   "metadata": {},
   "outputs": [],
   "source": [
    "# << 파이썬으로 이메일 전송하기 >>\n",
    "\n",
    "# 조건 : 네이버 - 로그인 2단계 인증을 사용한다면 해제 되어있어야 함"
   ]
  },
  {
   "cell_type": "code",
   "execution_count": 7,
   "id": "09807451",
   "metadata": {},
   "outputs": [],
   "source": [
    "import smtplib"
   ]
  },
  {
   "cell_type": "code",
   "execution_count": 8,
   "id": "0f6c2ed3",
   "metadata": {},
   "outputs": [],
   "source": [
    "from email.mime.text import MIMEText"
   ]
  },
  {
   "cell_type": "code",
   "execution_count": 9,
   "id": "c25ebeee",
   "metadata": {},
   "outputs": [],
   "source": [
    "# 시스템 라이브러리 활용 패키지\n",
    "import os\n",
    "\n",
    "# 이메일 메시지에 형식을 활용하기 위한 패키지\n",
    "from email.mime.multipart import MIMEMultipart\n",
    "\n",
    "# 이메일 메시지 프로토콜 처리기(엔코더)\n",
    "from email import encoders\n",
    "\n",
    "# 텍스트 형식 메일\n",
    "from email.mime.text import MIMEText\n",
    "\n",
    "# 이미지 형식 메일\n",
    "from email.mime.image import MIMEImage\n",
    "\n",
    "# 오디오 형식 메일\n",
    "from email.mime.audio import MIMEAudio\n",
    "\n",
    "# 이 모든 정보들을 관장하는 객체\n",
    "from email.mime.base import MIMEBase"
   ]
  },
  {
   "cell_type": "code",
   "execution_count": 10,
   "id": "d437cfd0",
   "metadata": {},
   "outputs": [],
   "source": [
    "def send_email(smtp_info, msg):\n",
    "    with smtplib.SMTP(smtp_info[\"smtp_server\"], smtp_info[\"smtp_port\"]) as server:\n",
    "        # TLS 보안 설정 및 시작 (보안 정책상 필수)\n",
    "        server.starttls()\n",
    "        \n",
    "        # 로그인\n",
    "        server.login(smtp_info[\"smtp_user_id\"], smtp_info[\"smtp_user_pw\"])\n",
    "        \n",
    "        # 이메일 전송\n",
    "        # 메시지 전송시 반드시 as_string()으로 변환하여 전송해야함\n",
    "        res = server.sendmail(msg['from'], msg['to'], msg.as_string())\n",
    "        \n",
    "        if not res:\n",
    "            print('이메일 전송 성공!!!')\n",
    "        else:\n",
    "            print(res)"
   ]
  },
  {
   "cell_type": "code",
   "execution_count": 17,
   "id": "e69b74bd",
   "metadata": {},
   "outputs": [],
   "source": [
    "# << 텍스트, 이미지 보내기 >>\n",
    "\n",
    "def make_multimsg(msg_dict):\n",
    "    multi = MIMEMultipart(_subtype = 'mixed')\n",
    "    \n",
    "    for key, value in msg_dict.items():\n",
    "        # text 형식인 경우\n",
    "        if key == 'text':\n",
    "            with open(value['filename'], encoding='utf-8') as fp:\n",
    "                msg = MIMEText(fp.read(), _subtype = value['subtype'])\n",
    "        # image 형식인 경우\n",
    "        elif key == 'image':\n",
    "            with open(value['filename'], 'rb') as fp:\n",
    "                msg = MIMEImage(fp.read(), _subtype = value['subtype'])\n",
    "        # audio, video는 별도 설정 없이 진행하도록 함\n",
    "        elif key == 'audio':\n",
    "            print(\"음원은 지원하지 않습니다!\")\n",
    "        elif key == 'video':\n",
    "            print(\"영상은 지원하지 않습니다!\")\n",
    "        # 그 외의 형식\n",
    "        else:\n",
    "            with open(value['filename'], 'rb') as fp:\n",
    "                msg = MIMEBase(value['maintype'], _subtype = value['subtype'])\n",
    "                msg.set_payload(fp.read())\n",
    "                encoders.encode_base64(msg)\n",
    "                \n",
    "        # 파일 이름은 첨부파일 제목\n",
    "        msg.add_header('Content-Disposition', 'attachment', \n",
    "                       filename = os.path.basename(value['filename']))\n",
    "\n",
    "        # 파일 첨부!\n",
    "        multi.attach(msg)\n",
    "        \n",
    "    return multi"
   ]
  },
  {
   "cell_type": "code",
   "execution_count": 14,
   "id": "cb6696d4",
   "metadata": {},
   "outputs": [
    {
     "name": "stdout",
     "output_type": "stream",
     "text": [
      "이메일 전송 성공!!!\n"
     ]
    }
   ],
   "source": [
    "# 텍스트만 전송하기\n",
    "smtp_info = dict({\n",
    "    \"smtp_server\": \"smtp.naver.com\",\n",
    "    \"smtp_user_id\": \"03y20y@naver.com\",\n",
    "    \"smtp_user_pw\": \"네이버 비번\",\n",
    "    \"smtp_port\": 587\n",
    "})\n",
    "\n",
    "title = \"쪼코야 잘 지내니\"\n",
    "content = \"잘 지내렴\"\n",
    "sender = smtp_info['smtp_user_id']\n",
    "receiver = smtp_info['smtp_user_id']\n",
    "\n",
    "msg = MIMEText(_text = content, _charset = \"utf-8\")\n",
    "\n",
    "msg['Subject'] = title\n",
    "msg['From'] = sender\n",
    "msg['To'] = receiver\n",
    "\n",
    "send_email(smtp_info, msg)"
   ]
  },
  {
   "cell_type": "markdown",
   "id": "ca90ad0c",
   "metadata": {},
   "source": [
    "# SMTP(Simple Mail Transfer Protocol)\n",
    "\n",
    "POP3(Post Office Protocol 3), IMAP(Internet Message Access Protocol)의 약자\n",
    "프로토콜이란? 상호 조약 같은 것으로 보면 됩니다.\n",
    "국제 표준 언어가 영어이듯이 서로 다른 언어를 사용하는 녀석들끼리 표준을 만들어 소통을 하기 위함임\n",
    "\n",
    "1. 송신자 계정으로 로그인 한다. (ID, PW 활용)\n",
    "2. 이메일 작성(제목, 내용, 이미지 등등 첨부가 가능함)\n",
    "3. send를 통해 이메일 서버에 전송을 요청함\n",
    "4. 이메일 서버가 SMTP, POP3, IMAP 프로토콜을 활용하여 수신자에게 메일을 전송하게 됨"
   ]
  },
  {
   "cell_type": "code",
   "execution_count": 20,
   "id": "db5676a2",
   "metadata": {},
   "outputs": [
    {
     "name": "stdout",
     "output_type": "stream",
     "text": [
      "이메일 전송 성공!!!\n"
     ]
    }
   ],
   "source": [
    "# 텍스트, 이미지(첨부파일) 전송하기\n",
    "smtp_info = dict({\n",
    "    \"smtp_server\": \"smtp.naver.com\",\n",
    "    \"smtp_user_id\": \"03y20y@naver.com\",\n",
    "    \"smtp_user_pw\": \"네이버 비번\",\n",
    "    \"smtp_port\": 587\n",
    "})\n",
    "\n",
    "msg_dict = {\n",
    "    # 텍스트 형식의 첨부 파일\n",
    "    'text': {\n",
    "        'maintype': 'text',\n",
    "        'subtype': 'plain',\n",
    "        'filename': 'res/email/test.txt'\n",
    "    },\n",
    "    # 이미지 형식의 첨부 파일\n",
    "    'image': {\n",
    "        'maintype': 'image',\n",
    "        'subtype': 'jpg',\n",
    "        'filename': 'res/email/bonobono.jpg'\n",
    "    },\n",
    "    # 세금계산서 등등의 pdf 형식의 첨부 파일들\n",
    "    'application': {\n",
    "        'maintype': 'application',\n",
    "        'subtype': 'octect-stream',\n",
    "        'filename': 'res/email/test.pdf'\n",
    "    }\n",
    "}\n",
    "# 메일 작성\n",
    "title = \"첨부파일을 보냈습니다.\"\n",
    "content = \"확인해보세요\"\n",
    "sender = smtp_info['smtp_user_id']\n",
    "receiver = smtp_info['smtp_user_id']\n",
    "\n",
    "msg = MIMEText(_text = content, _charset = 'utf-8')\n",
    "\n",
    "# 파일 첨부하기!\n",
    "multi = make_multimsg(msg_dict)\n",
    "multi['Subject'] = title\n",
    "multi['From'] = sender\n",
    "multi['To'] = receiver\n",
    "multi.attach(msg)\n",
    "\n",
    "# 첨부한 내용을 추가하여 이메일 전송!\n",
    "send_email(smtp_info, multi)"
   ]
  },
  {
   "cell_type": "code",
   "execution_count": null,
   "id": "e6a68344",
   "metadata": {},
   "outputs": [],
   "source": []
  }
 ],
 "metadata": {
  "kernelspec": {
   "display_name": "Python 3",
   "language": "python",
   "name": "python3"
  },
  "language_info": {
   "codemirror_mode": {
    "name": "ipython",
    "version": 3
   },
   "file_extension": ".py",
   "mimetype": "text/x-python",
   "name": "python",
   "nbconvert_exporter": "python",
   "pygments_lexer": "ipython3",
   "version": "3.8.8"
  }
 },
 "nbformat": 4,
 "nbformat_minor": 5
}
