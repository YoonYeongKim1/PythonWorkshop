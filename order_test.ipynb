{
 "cells": [
  {
   "cell_type": "code",
   "execution_count": 15,
   "id": "73d9516d",
   "metadata": {},
   "outputs": [],
   "source": [
    "# << 주문 결제 요청 이후 카카오톡 메세지 전송하기 (Vue + Spring + DB(JPA) + Python) >>\n",
    "\n",
    "from flask import Flask, url_for, request, jsonify\n",
    "from flask_cors import CORS, cross_origin\n",
    "\n",
    "import json\n",
    "import requests"
   ]
  },
  {
   "cell_type": "code",
   "execution_count": 16,
   "id": "d0dcbbc5",
   "metadata": {},
   "outputs": [],
   "source": [
    "KAKAO_TOKEN_SAVED_FILE = \"res/kakao_msg/kakao_token.json\"\n",
    "APP_KEY_SAVED_FILE = \"res/kakao_msg/app_key\""
   ]
  },
  {
   "cell_type": "code",
   "execution_count": 17,
   "id": "1650224a",
   "metadata": {},
   "outputs": [],
   "source": [
    "def save_tokens(filename, tokens):\n",
    "    with open(filename, \"w\") as fp:\n",
    "        json.dump(tokens, fp)"
   ]
  },
  {
   "cell_type": "code",
   "execution_count": 18,
   "id": "de6eeb66",
   "metadata": {},
   "outputs": [],
   "source": [
    "# 초기 한 번만 수행함(REST APP KEY 저장 목적)\n",
    "import pickle\n",
    "\n",
    "app_key = \"\"\n",
    "\n",
    "f = open(APP_KEY_SAVED_FILE, 'wb')\n",
    "pickle.dump(app_key, f)\n",
    "f.close()"
   ]
  },
  {
   "cell_type": "code",
   "execution_count": 19,
   "id": "ffdbc917",
   "metadata": {},
   "outputs": [
    {
     "name": "stdout",
     "output_type": "stream",
     "text": [
      "\n"
     ]
    }
   ],
   "source": [
    "# REST APP KEY 저장 잘 되었는지 확인하는 목적\n",
    "f = open(APP_KEY_SAVED_FILE, 'rb')\n",
    "app_key = pickle.load(f)\n",
    "f.close()\n",
    "\n",
    "print(app_key)"
   ]
  },
  {
   "cell_type": "code",
   "execution_count": 20,
   "id": "d9f5974b",
   "metadata": {},
   "outputs": [],
   "source": [
    "def load_tokens(filename):\n",
    "    with open(filename) as fp:\n",
    "        tokens = json.load(fp)\n",
    "        \n",
    "    return tokens"
   ]
  },
  {
   "cell_type": "code",
   "execution_count": 21,
   "id": "debac103",
   "metadata": {},
   "outputs": [],
   "source": [
    "def update_tokens(app_key, filename):\n",
    "    tokens = load_tokens(filename)\n",
    "    \n",
    "    url = \"https://kauth.kakao.com/oauth/token\"\n",
    "    \n",
    "    data = {\n",
    "        \"grant_type\" : \"refresh_token\",\n",
    "        \"client_id\" : \"REST API key\",\n",
    "        \"refresh_token\" : tokens['refresh_token']\n",
    "    }\n",
    "    \n",
    "    response = requests.post(url, data=data)\n",
    "    \n",
    "    if response.status_code != 200:\n",
    "        print(\"Error!\")\n",
    "        tokens = None\n",
    "    else:\n",
    "        print(response.json())\n",
    "        \n",
    "        # 기존 내용 백업\n",
    "        now = datetime.datetime.now().strftime(\"%Y%m%d_%H%M%S\")\n",
    "        backup_filename = filename + \".\" + now\n",
    "        os.rename(filename, backup_filename)\n",
    "        \n",
    "        # 새롭게 업데이트된 토큰 저장\n",
    "        tokens['access_token'] = response.json()['access_token']\n",
    "        save_tokens(filename, tokens)\n",
    "        \n",
    "    return tokens"
   ]
  },
  {
   "cell_type": "code",
   "execution_count": null,
   "id": "79cac1a6",
   "metadata": {},
   "outputs": [],
   "source": [
    "# kauth.kakao.com/oauth/authorize?client_id={REST_API_KEY}&redirect_uri={REDIRECT_URI}&response_type=code"
   ]
  },
  {
   "cell_type": "code",
   "execution_count": 28,
   "id": "0f76656c",
   "metadata": {},
   "outputs": [],
   "source": [
    "def get_auth_code():\n",
    "    url = \"https://kauth.kakao.com/oauth/authorize\"\n",
    "    \n",
    "    response = requests.get(url, params = {'client_id': app_key, \n",
    "                                           'redirect_uri': 'https://localhost.com',\n",
    "                                           'response_type': 'code'})\n",
    "    print(response)"
   ]
  },
  {
   "cell_type": "code",
   "execution_count": 35,
   "id": "7e15d308",
   "metadata": {},
   "outputs": [
    {
     "name": "stdout",
     "output_type": "stream",
     "text": [
      "Error!\n"
     ]
    }
   ],
   "source": [
    "url = \"https://kauth.kakao.com/oauth/token\"\n",
    "\n",
    "data = {\n",
    "    \"grant_type\" : \"authorization_code\",\n",
    "    \"client_id\" : \"REST API key\",\n",
    "    \"redirect_uri\" : \"https://localhost.com\",\n",
    "    \"code\" : \"발급받은 토큰값\"\n",
    "}\n",
    "\n",
    "response = requests.post(url, data=data)\n",
    "\n",
    "if response.status_code != 200:\n",
    "    print(\"Error!\")\n",
    "else:\n",
    "    tokens = response.json()\n",
    "    print(tokens)"
   ]
  },
  {
   "cell_type": "code",
   "execution_count": 31,
   "id": "efb92ff3",
   "metadata": {},
   "outputs": [],
   "source": [
    "save_tokens(KAKAO_TOKEN_SAVED_FILE, tokens)"
   ]
  },
  {
   "cell_type": "code",
   "execution_count": 32,
   "id": "986c5774",
   "metadata": {},
   "outputs": [
    {
     "name": "stdout",
     "output_type": "stream",
     "text": [
      "<Response [200]>\n"
     ]
    }
   ],
   "source": [
    "get_auth_code()"
   ]
  },
  {
   "cell_type": "code",
   "execution_count": 34,
   "id": "b15ada1c",
   "metadata": {},
   "outputs": [
    {
     "name": "stdout",
     "output_type": "stream",
     "text": [
      " * Serving Flask app \"__main__\" (lazy loading)\n",
      " * Environment: production\n",
      "   WARNING: This is a development server. Do not use it in a production deployment.\n",
      "   Use a production WSGI server instead.\n",
      " * Debug mode: off\n"
     ]
    },
    {
     "name": "stderr",
     "output_type": "stream",
     "text": [
      " * Running on http://127.0.0.1:5000/ (Press CTRL+C to quit)\n",
      "<ipython-input-34-b2d64cbfd9ff>:7: DeprecationWarning: 'encoding' is ignored and deprecated. It will be removed in Python 3.9\n",
      "  params = json.loads(request.get_data(), encoding='utf-8')\n",
      "127.0.0.1 - - [05/Oct/2021 19:30:11] \"\u001b[37mPOST /spring2pythonRequestWithData HTTP/1.1\u001b[0m\" 200 -\n"
     ]
    },
    {
     "name": "stdout",
     "output_type": "stream",
     "text": [
      "params:  {'name': '김쪼코', 'cost': 1000000000}\n",
      "values:  ['김쪼코', 1000000000]\n",
      "이름:  김쪼코\n",
      "가격:  1000000000\n",
      "200\n"
     ]
    }
   ],
   "source": [
    "app = Flask(__name__)\n",
    "CORS(app)\n",
    "\n",
    "@app.route('/spring2pythonRequestWithData', methods = ['GET', 'POST'])\n",
    "def spring2pythonRequestWithData():\n",
    "    \n",
    "    params = json.loads(request.get_data(), encoding='utf-8')\n",
    "    print(\"params: \", params)\n",
    "    \n",
    "    if len(params) == 0:\n",
    "        return jsonify(\"No Parameter\")\n",
    "    \n",
    "    params_string = \"\"\n",
    "    customer_name = \"\"\n",
    "    price = \"\"\n",
    "    \n",
    "    ##################### 개조 구간 시작 #####################\n",
    "    #params_string = \"\"\n",
    "    #for key in params.keys():\n",
    "    #    params_string += 'key: {}, value: {}<br>'.format(key, params[key])\n",
    "    \n",
    "    values = []\n",
    "    for key in params.keys():\n",
    "        values.append(params[key])\n",
    "\n",
    "    print(\"values: \", values)\n",
    "    customer_name = values[0]\n",
    "    price = values[1]\n",
    "    \n",
    "    print(\"이름: \", customer_name)\n",
    "    print(\"가격: \", price)\n",
    "    \n",
    "    tokens = load_tokens(KAKAO_TOKEN_SAVED_FILE)\n",
    "    #print(\"tokens: \", tokens)\n",
    "\n",
    "    url = \"https://kapi.kakao.com/v2/api/talk/memo/default/send\"\n",
    "\n",
    "    headers = {\n",
    "        \"Authorization\" : \"Bearer \" + tokens['access_token']\n",
    "    }\n",
    "    \n",
    "    message = \"주문 테스트 - 구매자: {0}, 결제 금액: {1}\".format(customer_name, price)\n",
    "\n",
    "    data = {\n",
    "        \"template_object\" : json.dumps({\n",
    "            \"object_type\" : \"text\",\n",
    "            \"text\" : message,\n",
    "            \"link\" : {\n",
    "                \"web_url\" : \"http://localhost:8080/\"\n",
    "            }\n",
    "        })\n",
    "    }\n",
    "\n",
    "    response = requests.post(url, headers=headers, data=data)\n",
    "    print(response.status_code)\n",
    "    \n",
    "    if response.status_code == 401:\n",
    "        tokens = update_tokens(app_key, KAKAO_TOKEN_SAVED_FILE)\n",
    "        \n",
    "    #print(\"tokens: \", tokens)\n",
    "    \n",
    "    ##################### 개조 구간 끄읕 #####################\n",
    "    \n",
    "    return jsonify(params_string)\n",
    "\n",
    "if __name__ == \"__main__\":\n",
    "    app.run()"
   ]
  },
  {
   "cell_type": "code",
   "execution_count": null,
   "id": "751fedb8",
   "metadata": {},
   "outputs": [],
   "source": []
  }
 ],
 "metadata": {
  "kernelspec": {
   "display_name": "Python 3",
   "language": "python",
   "name": "python3"
  },
  "language_info": {
   "codemirror_mode": {
    "name": "ipython",
    "version": 3
   },
   "file_extension": ".py",
   "mimetype": "text/x-python",
   "name": "python",
   "nbconvert_exporter": "python",
   "pygments_lexer": "ipython3",
   "version": "3.8.8"
  }
 },
 "nbformat": 4,
 "nbformat_minor": 5
}
