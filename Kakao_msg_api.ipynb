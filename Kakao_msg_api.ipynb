{
 "cells": [
  {
   "cell_type": "code",
   "execution_count": 1,
   "id": "ab1c5ea0",
   "metadata": {
    "scrolled": true
   },
   "outputs": [
    {
     "name": "stdout",
     "output_type": "stream",
     "text": [
      " * Serving Flask app \"__main__\" (lazy loading)\n",
      " * Environment: production\n",
      "   WARNING: This is a development server. Do not use it in a production deployment.\n",
      "   Use a production WSGI server instead.\n",
      " * Debug mode: off\n"
     ]
    },
    {
     "name": "stderr",
     "output_type": "stream",
     "text": [
      " * Running on http://127.0.0.1:5000/ (Press CTRL+C to quit)\n",
      "127.0.0.1 - - [29/Sep/2021 15:43:40] \"\u001b[37mGET / HTTP/1.1\u001b[0m\" 200 -\n",
      "127.0.0.1 - - [29/Sep/2021 15:43:41] \"\u001b[33mGET /favicon.ico HTTP/1.1\u001b[0m\" 404 -\n"
     ]
    }
   ],
   "source": [
    "from flask import Flask\n",
    "app = Flask(__name__)\n",
    "\n",
    "# Spring Controller와 동일한 역할 수행\n",
    "@app.route(\"/\")\n",
    "def hello(): # hello 함수를 실행한다.\n",
    "    return \"<h1>Hello Python</h1>\"\n",
    "\n",
    "if __name__ == \"__main__\":\n",
    "    app.run()"
   ]
  },
  {
   "cell_type": "code",
   "execution_count": null,
   "id": "fd9f77eb",
   "metadata": {},
   "outputs": [],
   "source": [
    "# 1) https://developers.kakao.com/ 로그인\n",
    "\n",
    "# 2) 내 어플리케이션 -> test(이전에 만들었던 사항) 클릭\n",
    "\n",
    "# 3) 동의항목 카테고리 클릭 : 닉네임 - 필수동의, 카카오계정(이메일) - 선택동의, 카톡메세지 - 선택동의\n",
    "                            # 동의 목적 - Kakao API 테스트\n",
    "\n",
    "# 4) 카카오 로그인 -> 활성화 ON, Redirect URI -> https://localhost.com 입력\n",
    "\n",
    "# 5) 내 어플리케이션 > 앱설정 > 플랫폼 -> Web 사이트 도메인 입력 : https://www.naver.com, https://localhost.com\n",
    "\n",
    "# 6) Kakao API 문서 위치 - https://developers.kakao.com/docs/latest/ko/kakaologin/rest-api -> oauth 검색\n",
    "\n",
    "# 7) 토큰값(주소) 발급받기 : 시크릿 창 모드를 사용해야한다. 안그러면 해킹당할 위험 높음.\n",
    "          # kauth.kakao.com/oauth/authorize?client_id={REST_API_KEY}&redirect_uri={REDIRECT_URI}&response_type=code\n",
    "          # {REST_API_KEY} = 나의 REST API 키, {REDIRECT_URI} = https://localhost.com\n",
    "\n",
    "# 8) 해당 URL로 진입하면 (사이트에 연결할 수 없음 창이 뜬다. 정상이다. 여기서 주소에 주어진 토큰값을 사용한다.) \n",
    "                      # Kakao API를 활용할 수 있는 토큰을 발급 받을 수 있다. 주어진 시간내에 처리 하지 않으면 토큰이 만료됨.\n"
   ]
  },
  {
   "cell_type": "code",
   "execution_count": 16,
   "id": "0451fa75",
   "metadata": {
    "scrolled": true
   },
   "outputs": [
    {
     "name": "stdout",
     "output_type": "stream",
     "text": [
      "{'access_token': '2A9Hi4Dq-_gfmY6fk6Gj_5QgiGaOcObIOvxwGAopb9QAAAF8MMQLXA', 'token_type': 'bearer', 'refresh_token': '3IkDP4G8POOONGOMahekoUIE3QqGKqWRLePS0Qopb9QAAAF8MMQLWg', 'expires_in': 21599, 'scope': 'account_email talk_message profile_nickname', 'refresh_token_expires_in': 5183999}\n"
     ]
    }
   ],
   "source": [
    "# 9) 토큰값 스프링과 연동\n",
    "import requests\n",
    "\n",
    "url = \"https://kauth.kakao.com/oauth/token\"\n",
    "\n",
    "# data = {\n",
    "#    \"grant_type\" : \"authorization_code\",\n",
    "#    \"client_id\" : \"REST_API_키\",\n",
    "#    \"redirect_uri\" : \"https://localhost.com\",\n",
    "#    \"code\" : \"발급받은 토큰값(주소)\"\n",
    "# }\n",
    "\n",
    "data = {\n",
    "    \"grant_type\" : \"authorization_code\",\n",
    "    \"client_id\" : \"보안보안보안보안\",\n",
    "    \"redirect_uri\" : \"https://localhost.com\",\n",
    "    \"code\" : \"cp72xoHfnfdyl5Q2vygMGg6G8Bh9cxEMZl2XNkywNYbePXOPm-Od6u3TffuppkaHiHGGOwo9cuoAAAF8MMNH8w\"\n",
    "}\n",
    "\n",
    "response = requests.post(url, data=data)\n",
    "\n",
    "if response.status_code != 200:\n",
    "    print(\"Error!\")\n",
    "else:\n",
    "    tokens = response.json()\n",
    "    print(tokens)"
   ]
  },
  {
   "cell_type": "code",
   "execution_count": 19,
   "id": "353bdb4a",
   "metadata": {},
   "outputs": [],
   "source": [
    "import json\n",
    "import requests\n",
    "import datetime\n",
    "import os\n",
    "\n",
    "# Kakao Token 저장 파일\n",
    "KAKAO_TOKEN_SAVED_FILE = \"res/kakao_msg/kakao_token.json\"\n",
    "\n",
    "# 저장\n",
    "def save_tokens(filename, tokens):\n",
    "    with open(filename, \"w\") as fp:\n",
    "        json.dump(tokens, fp)\n",
    "        \n",
    "# 읽기\n",
    "def load_tokens(filename):\n",
    "    with open(filename) as fp:\n",
    "        tokens = json.load(fp)\n",
    "        \n",
    "    return tokens\n",
    "\n",
    "# Access Token 갱신을 위한 Refresh\n",
    "def update_tokens(app_key, filename):\n",
    "    tokens = load_tokens(filename)\n",
    "    \n",
    "    url = \"https://kauth.kakao.com/oauth/token\"\n",
    "    \n",
    "    data = {\n",
    "        \"grant_type\" : \"refresh_token\",\n",
    "        \"client_id\" : app_key,\n",
    "        \"refresh_token\" : tokens['refresh_token']\n",
    "    }\n",
    "    \n",
    "    response = requests.post(url, data=data)\n",
    "    \n",
    "    if response.status_code != 200:\n",
    "        print(\"Error!\")\n",
    "        tokens = None\n",
    "    else:\n",
    "        print(response.json())\n",
    "        \n",
    "        # 기존 내용 백업\n",
    "        now = datetime.datetime.now().strftime(\"%Y%m%d_%H%M%S\")\n",
    "        backup_filename = filename + \",\" + now\n",
    "        os.rename(filenam, backup_filename)\n",
    "        \n",
    "        # 새롭게 업데이트된 토큰 저장\n",
    "        tokens['access_token'] = response.json()['access_token']\n",
    "        save_tokens(filename, tokens)\n",
    "        \n",
    "    return tokens\n",
    "\n",
    "# token 저장\n",
    "save_tokens(KAKAO_TOKEN_SAVED_FILE, tokens)"
   ]
  },
  {
   "cell_type": "code",
   "execution_count": 23,
   "id": "b6e89767",
   "metadata": {},
   "outputs": [
    {
     "name": "stdout",
     "output_type": "stream",
     "text": [
      "200\n",
      "카톡 메시지 전송!\n"
     ]
    }
   ],
   "source": [
    "# Kakao Talk Message 보내기\n",
    "# 1) https://developers.kakao.com/docs/latest/ko/message/rest-api\n",
    "\n",
    "import json\n",
    "import requests\n",
    "\n",
    "# 토큰 정보 활용\n",
    "tokens = load_tokens(KAKAO_TOKEN_SAVED_FILE)\n",
    "\n",
    "# 메시지 보내기 URL\n",
    "url = \"https://kapi.kakao.com/v2/api/talk/memo/default/send\"\n",
    "\n",
    "# requests parameter 설정\n",
    "headers = {\n",
    "    # Authorization: Bearer {ACCESS_TOKEN}\n",
    "    \"Authorization\" : \"Bearer \" + tokens['access_token']\n",
    "}\n",
    "\n",
    "data = {\n",
    "    \"template_object\" : json.dumps({\n",
    "        \"object_type\" : \"text\",\n",
    "        \"text\" : \"배송이 도착했습니다.\",\n",
    "        \"link\" : {\n",
    "            # 이동할 링크 정보니까 사이트 주소를 걸면 더 좋음\n",
    "            \"web_url\" : \"www.naver.com\"\n",
    "        }\n",
    "    })\n",
    "}\n",
    "\n",
    "# 메시지 전송\n",
    "response = requests.post(url, headers=headers, data=data)\n",
    "print(response.status_code)\n",
    "\n",
    "if response.status_code != 200:\n",
    "    print(\"Error!\")\n",
    "else:\n",
    "    print(\"카톡 메시지 전송!\")"
   ]
  },
  {
   "cell_type": "code",
   "execution_count": 25,
   "id": "cb525864",
   "metadata": {},
   "outputs": [
    {
     "name": "stdout",
     "output_type": "stream",
     "text": [
      "/\n",
      "/member/yoonyeong\n"
     ]
    }
   ],
   "source": [
    "from flask import Flask, url_for\n",
    "app = Flask(__name__)\n",
    "\n",
    "# Spring Controller와 동일한 역할 수행\n",
    "@app.route(\"/\")\n",
    "def hello(): # hello 함수를 실행한다.\n",
    "    return \"<h1>Hello Python</h1>\"\n",
    "\n",
    "@app.route(\"/member/<id>\") # id = 가변 인자\n",
    "def get_member(id):\n",
    "    return 'member : ' + id\n",
    "\n",
    "if __name__ == \"__main__\":\n",
    "    with app.test_request_context():\n",
    "        print(url_for('hello'))\n",
    "        print(url_for('get_member', id='yoonyeong'))"
   ]
  },
  {
   "cell_type": "code",
   "execution_count": 31,
   "id": "f875cce5",
   "metadata": {},
   "outputs": [
    {
     "name": "stdout",
     "output_type": "stream",
     "text": [
      " * Serving Flask app \"__main__\" (lazy loading)\n",
      " * Environment: production\n",
      "   WARNING: This is a development server. Do not use it in a production deployment.\n",
      "   Use a production WSGI server instead.\n",
      " * Debug mode: off\n"
     ]
    },
    {
     "name": "stderr",
     "output_type": "stream",
     "text": [
      " * Running on http://127.0.0.1:5000/ (Press CTRL+C to quit)\n",
      "127.0.0.1 - - [29/Sep/2021 19:18:35] \"\u001b[37mGET / HTTP/1.1\u001b[0m\" 200 -\n",
      "127.0.0.1 - - [29/Sep/2021 19:18:39] \"\u001b[37mGET /test HTTP/1.1\u001b[0m\" 200 -\n",
      "127.0.0.1 - - [29/Sep/2021 19:18:44] \"\u001b[37mGET / HTTP/1.1\u001b[0m\" 200 -\n",
      "127.0.0.1 - - [29/Sep/2021 19:18:51] \"\u001b[37mGET /test HTTP/1.1\u001b[0m\" 200 -\n"
     ]
    }
   ],
   "source": [
    "# Cors 문제 발생함(Vue, React 혹은 Svelte 통신사)\n",
    "from flask import Flask, url_for, request\n",
    "app = Flask(__name__)\n",
    "\n",
    "# Spring Controller와 동일한 역할 수행\n",
    "@app.route(\"/\")\n",
    "def hello(): # hello 함수를 실행한다.\n",
    "    return \"<h1>Hello Python</h1>\"\n",
    "\n",
    "@app.route(\"/member/<id>\") # id = 가변 인자\n",
    "def get_member(id):\n",
    "    return 'member : ' + id\n",
    "\n",
    "@app.route(\"/test\", methods=['POST', 'GET'])\n",
    "def chk_get_post(entity=None): # 값이 아무것도 안들어오면 디폴드로 None 세팅\n",
    "    err = None\n",
    "    \n",
    "    if request.method == 'POST':\n",
    "        id = request.form['id']\n",
    "        email = request.form['email']\n",
    "        \n",
    "        if not id and not email:\n",
    "            return add_entity(requests.form)\n",
    "    else:\n",
    "        err = \"Invalid!!!\"\n",
    "        \n",
    "    return err\n",
    "\n",
    "if __name__ == \"__main__\":\n",
    "    app.run()"
   ]
  },
  {
   "cell_type": "code",
   "execution_count": null,
   "id": "49ca9608",
   "metadata": {},
   "outputs": [
    {
     "name": "stdout",
     "output_type": "stream",
     "text": [
      " * Serving Flask app \"__main__\" (lazy loading)\n",
      " * Environment: production\n",
      "   WARNING: This is a development server. Do not use it in a production deployment.\n",
      "   Use a production WSGI server instead.\n",
      " * Debug mode: off\n"
     ]
    },
    {
     "name": "stderr",
     "output_type": "stream",
     "text": [
      " * Running on http://127.0.0.1:5000/ (Press CTRL+C to quit)\n",
      "127.0.0.1 - - [29/Sep/2021 23:44:41] \"\u001b[37mOPTIONS /login HTTP/1.1\u001b[0m\" 200 -\n",
      "127.0.0.1 - - [29/Sep/2021 23:44:42] \"\u001b[37mPOST /login HTTP/1.1\u001b[0m\" 200 -\n"
     ]
    },
    {
     "name": "stdout",
     "output_type": "stream",
     "text": [
      "POST 처리\n",
      "{'userId': 'test', 'password': 'test'}\n"
     ]
    }
   ],
   "source": [
    "# Cors 문제 해결\n",
    "# pip install flask_cors\n",
    "from flask import Flask, url_for, request, jsonify\n",
    "from flask_cors import CORS, cross_origin\n",
    "\n",
    "app = Flask(__name__)\n",
    "CORS(app)\n",
    "\n",
    "# Spring Controller와 동일한 역할 수행\n",
    "@app.route(\"/\")\n",
    "def hello(): # hello 함수를 실행한다.\n",
    "    return \"<h1>Hello Python</h1>\"\n",
    "\n",
    "@app.route(\"/member/<id>\") # id = 가변 인자\n",
    "def get_member(id):\n",
    "    return 'member : ' + id\n",
    "\n",
    "@app.route(\"/login\", methods=['POST', 'GET'])\n",
    "def chk_get_post(entity=None): # 값이 아무것도 안들어오면 디폴드로 None 세팅\n",
    "    err = None\n",
    "    \n",
    "    if request.method == 'POST':\n",
    "        print(\"POST 처리\")\n",
    "        # userId = request.form['id']\n",
    "        # pw = request.form['pw']\n",
    "        # print(\"userId = {0}, pw = {1}\",format(userId, pw))\n",
    "        # request.get_json() 상대편에서 보낸 json 내용을 읽음\n",
    "        data = request.get_json()\n",
    "        print(data)\n",
    "        \n",
    "        # 여기에 카톡 Open API 연동하거나 딥러닝을 활용하는 것임\n",
    "        # 물론 우리는 시간이 부족해서 딥러닝이 불가함\n",
    "        # 그러므로 카톡 Open API나 주식 API 등등 여러가지 Open API들을 활용하면 될 것임\n",
    "        \n",
    "        # return \"userId = \" + userId + \", password = \" + pw\n",
    "        # json 데이터를 전송\n",
    "        return jsonify(data)\n",
    "    else:\n",
    "        print(\"GET 처리\")\n",
    "        err = \"Invalid!!!\"\n",
    "        \n",
    "    return err\n",
    "\n",
    "if __name__ == \"__main__\":\n",
    "    app.run()"
   ]
  },
  {
   "cell_type": "code",
   "execution_count": null,
   "id": "4fed92f2",
   "metadata": {},
   "outputs": [],
   "source": []
  }
 ],
 "metadata": {
  "kernelspec": {
   "display_name": "Python 3",
   "language": "python",
   "name": "python3"
  },
  "language_info": {
   "codemirror_mode": {
    "name": "ipython",
    "version": 3
   },
   "file_extension": ".py",
   "mimetype": "text/x-python",
   "name": "python",
   "nbconvert_exporter": "python",
   "pygments_lexer": "ipython3",
   "version": "3.8.8"
  }
 },
 "nbformat": 4,
 "nbformat_minor": 5
}
