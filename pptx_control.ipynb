{
 "cells": [
  {
   "cell_type": "code",
   "execution_count": 1,
   "id": "823465c0",
   "metadata": {
    "scrolled": true
   },
   "outputs": [
    {
     "name": "stdout",
     "output_type": "stream",
     "text": [
      "Collecting python-pptx\n",
      "  Downloading python-pptx-0.6.21.tar.gz (10.1 MB)\n",
      "Requirement already satisfied: lxml>=3.1.0 in c:\\programdata\\anaconda3\\lib\\site-packages (from python-pptx) (4.6.3)\n",
      "Requirement already satisfied: Pillow>=3.3.2 in c:\\programdata\\anaconda3\\lib\\site-packages (from python-pptx) (8.2.0)\n",
      "Requirement already satisfied: XlsxWriter>=0.5.7 in c:\\programdata\\anaconda3\\lib\\site-packages (from python-pptx) (1.3.8)\n",
      "Building wheels for collected packages: python-pptx\n",
      "  Building wheel for python-pptx (setup.py): started\n",
      "  Building wheel for python-pptx (setup.py): finished with status 'done'\n",
      "  Created wheel for python-pptx: filename=python_pptx-0.6.21-py3-none-any.whl size=471172 sha256=895aea426daa9d45723844b768d7115f82cfbd79c09ce99c514c3769099fe3bc\n",
      "  Stored in directory: c:\\users\\82103\\appdata\\local\\pip\\cache\\wheels\\b0\\38\\58\\8530ed1681bfee42349acf166867cc9fb369517b2fce83e599\n",
      "Successfully built python-pptx\n",
      "Installing collected packages: python-pptx\n",
      "Successfully installed python-pptx-0.6.21\n"
     ]
    }
   ],
   "source": [
    "# << 파이썬으로 PPT 파일 생성, 작성, 저장하기 >>\n",
    "\n",
    "# PPT 생성\n",
    "!pip install python-pptx"
   ]
  },
  {
   "cell_type": "code",
   "execution_count": 3,
   "id": "05261e38",
   "metadata": {},
   "outputs": [],
   "source": [
    "from pptx import Presentation\n",
    "from pptx.util import Inches"
   ]
  },
  {
   "cell_type": "code",
   "execution_count": 4,
   "id": "c7e9ad7f",
   "metadata": {},
   "outputs": [],
   "source": [
    "# PPT 객체 생성\n",
    "prs = Presentation()"
   ]
  },
  {
   "cell_type": "code",
   "execution_count": 5,
   "id": "a9fdd361",
   "metadata": {},
   "outputs": [
    {
     "name": "stdout",
     "output_type": "stream",
     "text": [
      " C 드라이브의 볼륨에는 이름이 없습니다.\n",
      " 볼륨 일련 번호: 5A07-D7FA\n",
      "\n",
      " C:\\Users\\82103\\python_works\\PythonWorkshop 디렉터리\n",
      "\n",
      "2021-10-06  오후 03:58    <DIR>          .\n",
      "2021-10-06  오후 03:58    <DIR>          ..\n",
      "2021-09-17  오후 05:46             1,928 .gitignore\n",
      "2021-10-06  오후 03:44    <DIR>          .ipynb_checkpoints\n",
      "2021-09-23  오후 06:17            16,613 Array.ipynb\n",
      "2021-09-27  오후 06:09            12,508 Class.ipynb\n",
      "2021-09-27  오후 06:04                 0 colors\n",
      "2021-09-23  오후 09:10            10,382 ControlStatement.ipynb\n",
      "2021-09-23  오후 06:17             4,144 DataType.ipynb\n",
      "2021-09-27  오후 06:04            11,591 FileIO.ipynb\n",
      "2021-09-27  오후 05:58            11,853 Function(Method).ipynb\n",
      "2021-10-02  오후 01:53             6,847 kakao_friends_msg_api.ipynb\n",
      "2021-09-29  오후 11:47            14,279 Kakao_msg_api.ipynb\n",
      "2021-09-28  오후 07:47             1,225 operator_overload.ipynb\n",
      "2021-10-05  오후 10:05             9,558 order_test.ipynb\n",
      "2021-10-05  오후 02:01             5,102 python_response.ipynb\n",
      "2021-09-17  오후 07:56            19,418 python_taste.ipynb\n",
      "2021-09-17  오후 05:46                51 README.md\n",
      "2021-09-17  오후 07:11            27,952 request_success.jpg\n",
      "2021-10-01  오후 06:01    <DIR>          res\n",
      "2021-09-24  오후 05:58                50 test.txt\n",
      "2021-10-06  오후 03:58             2,627 Untitled.ipynb\n",
      "              18개 파일             156,128 바이트\n",
      "               4개 디렉터리  318,421,340,160 바이트 남음\n"
     ]
    }
   ],
   "source": [
    "# 파일 저장 전\n",
    "!dir"
   ]
  },
  {
   "cell_type": "code",
   "execution_count": 6,
   "id": "ab8b9019",
   "metadata": {},
   "outputs": [],
   "source": [
    "# Python 지원하는 레이아웃(총 11개)\n",
    "for i in range(0, 11):\n",
    "    title_slide_layout = prs.slide_layouts[i]\n",
    "    slide = prs.slides.add_slide(title_slide_layout)\n",
    "\n",
    "# 저장\n",
    "prs.save('모든슬라이드추가.pptx')"
   ]
  },
  {
   "cell_type": "code",
   "execution_count": 7,
   "id": "61416f65",
   "metadata": {
    "scrolled": false
   },
   "outputs": [
    {
     "name": "stdout",
     "output_type": "stream",
     "text": [
      " C 드라이브의 볼륨에는 이름이 없습니다.\n",
      " 볼륨 일련 번호: 5A07-D7FA\n",
      "\n",
      " C:\\Users\\82103\\python_works\\PythonWorkshop 디렉터리\n",
      "\n",
      "2021-10-06  오후 03:59    <DIR>          .\n",
      "2021-10-06  오후 03:59    <DIR>          ..\n",
      "2021-09-17  오후 05:46             1,928 .gitignore\n",
      "2021-10-06  오후 03:44    <DIR>          .ipynb_checkpoints\n",
      "2021-09-23  오후 06:17            16,613 Array.ipynb\n",
      "2021-09-27  오후 06:09            12,508 Class.ipynb\n",
      "2021-09-27  오후 06:04                 0 colors\n",
      "2021-09-23  오후 09:10            10,382 ControlStatement.ipynb\n",
      "2021-09-23  오후 06:17             4,144 DataType.ipynb\n",
      "2021-09-27  오후 06:04            11,591 FileIO.ipynb\n",
      "2021-09-27  오후 05:58            11,853 Function(Method).ipynb\n",
      "2021-10-02  오후 01:53             6,847 kakao_friends_msg_api.ipynb\n",
      "2021-09-29  오후 11:47            14,279 Kakao_msg_api.ipynb\n",
      "2021-09-28  오후 07:47             1,225 operator_overload.ipynb\n",
      "2021-10-05  오후 10:05             9,558 order_test.ipynb\n",
      "2021-10-05  오후 02:01             5,102 python_response.ipynb\n",
      "2021-09-17  오후 07:56            19,418 python_taste.ipynb\n",
      "2021-09-17  오후 05:46                51 README.md\n",
      "2021-09-17  오후 07:11            27,952 request_success.jpg\n",
      "2021-10-01  오후 06:01    <DIR>          res\n",
      "2021-09-24  오후 05:58                50 test.txt\n",
      "2021-10-06  오후 03:58             2,627 Untitled.ipynb\n",
      "2021-10-06  오후 03:59            36,383 모든슬라이드추가.pptx\n",
      "              19개 파일             192,511 바이트\n",
      "               4개 디렉터리  318,421,385,216 바이트 남음\n"
     ]
    }
   ],
   "source": [
    "# 파일 저장 후\n",
    "!dir"
   ]
  },
  {
   "cell_type": "code",
   "execution_count": 9,
   "id": "8c383c59",
   "metadata": {},
   "outputs": [],
   "source": [
    "# 예제 1) 제목, 부제목 넣어서 만들어보기\n",
    "\n",
    "del prs"
   ]
  },
  {
   "cell_type": "code",
   "execution_count": 10,
   "id": "81412616",
   "metadata": {},
   "outputs": [],
   "source": [
    "prs = Presentation()\n",
    "\n",
    "title_slide_layout = prs.slide_layouts[0]\n",
    "slide = prs.slides.add_slide(title_slide_layout)\n",
    "\n",
    "title = slide.placeholders[0]\n",
    "title.text = \"Hello, Python Based PPTX!\"\n",
    "\n",
    "subtitle = slide.placeholders[1]\n",
    "subtitle.text = \"python-pptx를 사용해서 PPTX 만들기\"\n",
    "\n",
    "prs.save('test.pptx')"
   ]
  },
  {
   "cell_type": "code",
   "execution_count": 11,
   "id": "5a1c578c",
   "metadata": {},
   "outputs": [
    {
     "name": "stdout",
     "output_type": "stream",
     "text": [
      " C 드라이브의 볼륨에는 이름이 없습니다.\n",
      " 볼륨 일련 번호: 5A07-D7FA\n",
      "\n",
      " C:\\Users\\82103\\python_works\\PythonWorkshop 디렉터리\n",
      "\n",
      "2021-10-06  오후 04:07    <DIR>          .\n",
      "2021-10-06  오후 04:07    <DIR>          ..\n",
      "2021-09-17  오후 05:46             1,928 .gitignore\n",
      "2021-10-06  오후 03:44    <DIR>          .ipynb_checkpoints\n",
      "2021-09-23  오후 06:17            16,613 Array.ipynb\n",
      "2021-09-27  오후 06:09            12,508 Class.ipynb\n",
      "2021-09-27  오후 06:04                 0 colors\n",
      "2021-09-23  오후 09:10            10,382 ControlStatement.ipynb\n",
      "2021-09-23  오후 06:17             4,144 DataType.ipynb\n",
      "2021-09-27  오후 06:04            11,591 FileIO.ipynb\n",
      "2021-09-27  오후 05:58            11,853 Function(Method).ipynb\n",
      "2021-10-02  오후 01:53             6,847 kakao_friends_msg_api.ipynb\n",
      "2021-09-29  오후 11:47            14,279 Kakao_msg_api.ipynb\n",
      "2021-09-28  오후 07:47             1,225 operator_overload.ipynb\n",
      "2021-10-05  오후 10:05             9,558 order_test.ipynb\n",
      "2021-10-05  오후 02:01             5,102 python_response.ipynb\n",
      "2021-09-17  오후 07:56            19,418 python_taste.ipynb\n",
      "2021-09-17  오후 05:46                51 README.md\n",
      "2021-09-17  오후 07:11            27,952 request_success.jpg\n",
      "2021-10-01  오후 06:01    <DIR>          res\n",
      "2021-10-06  오후 04:07            28,310 test.pptx\n",
      "2021-09-24  오후 05:58                50 test.txt\n",
      "2021-10-06  오후 04:06             7,926 Untitled.ipynb\n",
      "2021-10-06  오후 03:59            36,383 모든슬라이드추가.pptx\n",
      "              20개 파일             226,120 바이트\n",
      "               4개 디렉터리  318,422,274,048 바이트 남음\n"
     ]
    }
   ],
   "source": [
    "!dir"
   ]
  },
  {
   "cell_type": "code",
   "execution_count": 12,
   "id": "5f9d73b7",
   "metadata": {},
   "outputs": [],
   "source": [
    "# 예제 2) \n",
    "\n",
    "del prs"
   ]
  },
  {
   "cell_type": "code",
   "execution_count": 13,
   "id": "ec484f5e",
   "metadata": {},
   "outputs": [],
   "source": [
    "prs = Presentation()\n",
    "\n",
    "title_slide_layout = prs.slide_layouts[0]\n",
    "slide = prs.slides.add_slide(title_slide_layout)\n",
    "\n",
    "# 제목\n",
    "title = slide.placeholders[0]\n",
    "title.text = \"Hello, Python Based PPTX!\"\n",
    "\n",
    "# 부제목\n",
    "# 즉 제목은 placeholders[0], 부제목은 [1]\n",
    "subtitle = slide.placeholders[1]\n",
    "subtitle.text = \"python-pptx로 단락(paragraph) 만들기\"\n",
    "\n",
    "#두 번째 슬라이드\n",
    "bullet_slide_layout = prs.slide_layouts[1]\n",
    "slide = prs.slides.add_slide(bullet_slide_layout)\n",
    "\n",
    "# [0] - 제목\n",
    "title_shape = slide.placeholders[0]\n",
    "title_shape.text = '문단 추가하기!'\n",
    "\n",
    "# 부제목인데 여기서는 내용물 작성하는 용도로 활용\n",
    "body_shape = slide.placeholders[1]\n",
    "\n",
    "# 글자 적는 공간이라고 알려줌(text_frame)\n",
    "tf = body_shape.text_frame\n",
    "tf.text = '요렇게 글자를 추가합니다'\n",
    "\n",
    "# 새로운 문단 추가\n",
    "p = tf.add_paragraph()\n",
    "p.text = '그 아래에 추가 문단이 들어갑니다.'\n",
    "\n",
    "# 들여쓰기\n",
    "p.level = 1\n",
    "\n",
    "p = tf.add_paragraph()\n",
    "p.text = '하나 더 추가해봅니다.'\n",
    "p.level = 2\n",
    "\n",
    "prs.save('글자쓰기.pptx')"
   ]
  },
  {
   "cell_type": "code",
   "execution_count": 16,
   "id": "1cd6f416",
   "metadata": {},
   "outputs": [],
   "source": [
    "# 예제 3) 이미지\n",
    "\n",
    "del prs"
   ]
  },
  {
   "cell_type": "code",
   "execution_count": 17,
   "id": "d4024a6d",
   "metadata": {},
   "outputs": [],
   "source": [
    "prs = Presentation()\n",
    "\n",
    "title_slide_layout = prs.slide_layouts[0]\n",
    "slide = prs.slides.add_slide(title_slide_layout)\n",
    "\n",
    "# 제목\n",
    "title = slide.placeholders[0]\n",
    "title.text = \"python-pptx로 사진 넣기!\"\n",
    "\n",
    "# 부제목\n",
    "# 즉 제목은 placeholders[0], 부제목은 [1]\n",
    "subtitle = slide.placeholders[1]\n",
    "subtitle.text = \"이게 되네 ?\"\n",
    "\n",
    "img_path = \"res/ppt/bonobono.jpg\"\n",
    "\n",
    "# 6번이 아까 빈 슬라이드였음\n",
    "img_slide_layout = prs.slide_layouts[6]\n",
    "slide = prs.slides.add_slide(img_slide_layout)\n",
    "\n",
    "left = top = Inches(1)\n",
    "width = height = Inches(1)\n",
    "\n",
    "pic = slide.shapes.add_picture(img_path, left, top, width=width, height=height)\n",
    "\n",
    "left = Inches(3)\n",
    "width = Inches(5.5)\n",
    "height = Inches(4)\n",
    "pic = slide.shapes.add_picture(img_path, left, top, width=width, height=height)\n",
    "\n",
    "prs.save('이미지.pptx')"
   ]
  },
  {
   "cell_type": "code",
   "execution_count": 18,
   "id": "5351f5fa",
   "metadata": {},
   "outputs": [
    {
     "name": "stdout",
     "output_type": "stream",
     "text": [
      " C 드라이브의 볼륨에는 이름이 없습니다.\n",
      " 볼륨 일련 번호: 5A07-D7FA\n",
      "\n",
      " C:\\Users\\82103\\python_works\\PythonWorkshop 디렉터리\n",
      "\n",
      "2021-10-06  오후 06:37    <DIR>          .\n",
      "2021-10-06  오후 06:37    <DIR>          ..\n",
      "2021-09-17  오후 05:46             1,928 .gitignore\n",
      "2021-10-06  오후 06:30    <DIR>          .ipynb_checkpoints\n",
      "2021-09-23  오후 06:17            16,613 Array.ipynb\n",
      "2021-09-27  오후 06:09            12,508 Class.ipynb\n",
      "2021-09-27  오후 06:04                 0 colors\n",
      "2021-09-23  오후 09:10            10,382 ControlStatement.ipynb\n",
      "2021-09-23  오후 06:17             4,144 DataType.ipynb\n",
      "2021-10-06  오후 06:19             4,542 email_process.ipynb\n",
      "2021-09-27  오후 06:04            11,591 FileIO.ipynb\n",
      "2021-09-27  오후 05:58            11,853 Function(Method).ipynb\n",
      "2021-10-02  오후 01:53             6,847 kakao_friends_msg_api.ipynb\n",
      "2021-09-29  오후 11:47            14,279 Kakao_msg_api.ipynb\n",
      "2021-09-28  오후 07:47             1,225 operator_overload.ipynb\n",
      "2021-10-05  오후 10:05             9,558 order_test.ipynb\n",
      "2021-10-06  오후 06:32            15,247 pptx_control.ipynb\n",
      "2021-10-05  오후 02:01             5,102 python_response.ipynb\n",
      "2021-09-17  오후 07:56            19,418 python_taste.ipynb\n",
      "2021-09-17  오후 05:46                51 README.md\n",
      "2021-09-17  오후 07:11            27,952 request_success.jpg\n",
      "2021-10-06  오후 06:34    <DIR>          res\n",
      "2021-10-06  오후 04:07            28,310 test.pptx\n",
      "2021-09-24  오후 05:58                50 test.txt\n",
      "2021-10-06  오후 04:20            29,284 글자쓰기.pptx\n",
      "2021-10-06  오후 03:59            36,383 모든슬라이드추가.pptx\n",
      "2021-10-06  오후 04:57            29,409 이것이표다.pptx\n",
      "2021-10-06  오후 06:37            99,895 이미지.pptx\n",
      "              24개 파일             396,571 바이트\n",
      "               4개 디렉터리  318,402,699,264 바이트 남음\n"
     ]
    }
   ],
   "source": [
    "!dir"
   ]
  },
  {
   "cell_type": "code",
   "execution_count": 14,
   "id": "03f3336f",
   "metadata": {},
   "outputs": [],
   "source": [
    "# 예제 4) 표\n",
    "\n",
    "del prs"
   ]
  },
  {
   "cell_type": "code",
   "execution_count": 15,
   "id": "b771fe95",
   "metadata": {},
   "outputs": [],
   "source": [
    "prs = Presentation()\n",
    "\n",
    "title_slide_layout = prs.slide_layouts[0]\n",
    "slide = prs.slides.add_slide(title_slide_layout)\n",
    "\n",
    "# 제목\n",
    "title = slide.placeholders[0]\n",
    "title.text = \"python-pptx로 표 만들기!\"\n",
    "\n",
    "# 부제목\n",
    "# 즉 제목은 placeholders[0], 부제목은 [1]\n",
    "subtitle = slide.placeholders[1]\n",
    "subtitle.text = \"사실상 요게 핵심!\"\n",
    "\n",
    "img_path = \"res/ppt/bonobono.jpg\"\n",
    "\n",
    "# 5번이 표 양식임\n",
    "table_slide_layout = prs.slide_layouts[5]\n",
    "slide = prs.slides.add_slide(table_slide_layout)\n",
    "shapes = slide.shapes\n",
    "\n",
    "title_shape = slide.placeholders[0]\n",
    "title_shape.text = '표 추가하기'\n",
    "\n",
    "rows = cols = 2\n",
    "left = top = Inches(2)\n",
    "width = Inches(6)\n",
    "height = Inches(0.8)\n",
    "\n",
    "table = shapes.add_table(rows, cols, left, top, width, height).table\n",
    "\n",
    "# 열의 폭\n",
    "table.columns[0].width = Inches(2)\n",
    "table.columns[1].width = Inches(4)\n",
    "\n",
    "# 열의 제목\n",
    "table.cell(0, 0).text = '요기'\n",
    "table.cell(0, 1).text = '조기'\n",
    "\n",
    "# 셀 내용\n",
    "table.cell(1, 0).text = '와리'\n",
    "table.cell(1, 1).text = '가리'\n",
    "\n",
    "prs.save('이것이표다.pptx')"
   ]
  }
 ],
 "metadata": {
  "kernelspec": {
   "display_name": "Python 3",
   "language": "python",
   "name": "python3"
  },
  "language_info": {
   "codemirror_mode": {
    "name": "ipython",
    "version": 3
   },
   "file_extension": ".py",
   "mimetype": "text/x-python",
   "name": "python",
   "nbconvert_exporter": "python",
   "pygments_lexer": "ipython3",
   "version": "3.8.8"
  }
 },
 "nbformat": 4,
 "nbformat_minor": 5
}
