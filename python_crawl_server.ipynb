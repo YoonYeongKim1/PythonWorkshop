{
 "cells": [
  {
   "cell_type": "code",
   "execution_count": 23,
   "id": "e9ed8966",
   "metadata": {},
   "outputs": [],
   "source": [
    "# << 파이썬으로 유튜브 제목 크롤링 >>\n",
    "# << Vue 검색창에서 검색 -> Python 유튜브 검색 결과 요청 -> 검색 결과를 다시 Vue로 보냄 >>\n",
    "\n",
    "from flask import Flask, url_for, request, jsonify, redirect, Response\n",
    "from flask_cors import CORS, cross_origin\n",
    "\n",
    "import json\n",
    "import requests"
   ]
  },
  {
   "cell_type": "code",
   "execution_count": 24,
   "id": "656beb9c",
   "metadata": {},
   "outputs": [],
   "source": [
    "import selenium\n",
    "from selenium import webdriver"
   ]
  },
  {
   "cell_type": "code",
   "execution_count": null,
   "id": "b5f7bd2c",
   "metadata": {},
   "outputs": [
    {
     "name": "stdout",
     "output_type": "stream",
     "text": [
      " * Serving Flask app \"__main__\" (lazy loading)\n",
      " * Environment: production\n",
      "   WARNING: This is a development server. Do not use it in a production deployment.\n",
      "   Use a production WSGI server instead.\n",
      " * Debug mode: off\n"
     ]
    },
    {
     "name": "stderr",
     "output_type": "stream",
     "text": [
      " * Running on http://127.0.0.1:5000/ (Press CTRL+C to quit)\n",
      "127.0.0.1 - - [08/Oct/2021 19:34:10] \"\u001b[37mOPTIONS /vue2pythonCrawlRequest HTTP/1.1\u001b[0m\" 200 -\n",
      "<ipython-input-25-8b5741ba8477>:7: DeprecationWarning: 'encoding' is ignored and deprecated. It will be removed in Python 3.9\n",
      "  params = json.loads(request.get_data(), encoding='utf-8')\n"
     ]
    },
    {
     "name": "stdout",
     "output_type": "stream",
     "text": [
      "params:  {'search_keyword': '기니피그'}\n"
     ]
    },
    {
     "name": "stderr",
     "output_type": "stream",
     "text": [
      "127.0.0.1 - - [08/Oct/2021 19:34:15] \"\u001b[37mPOST /vue2pythonCrawlRequest HTTP/1.1\u001b[0m\" 200 -\n"
     ]
    },
    {
     "name": "stdout",
     "output_type": "stream",
     "text": [
      "['기니피그 키우기 전에 꼭 봐야할 영상 / 키우면 안되는 이유8 안 좋은점', '강아지처럼 방목하며 키운 기니피그의 일상', '기니피그 라떼의 성장일기', \"페루 인기 메뉴 '꾸이' 식당\", '(SUB)기니피그 방목은 위험해요 | Free-range Guinea Pig | 꼭 필요한 경우만', '기니피그 다이소 용품 추천 | 직접 사용한 다이소 꿀템 | 기니피그 키우기 용품 준비', '기니피그 먹방 그리고 미용!', '기니피그 키우면 한 달 비용은 얼마? 가계부 언박싱', '온 몸으로 기쁨을 표현하는 기니피그🍿 (청소하면 팝콘하는 말콩이)', '기니피그와 놀아보기! 토끼? 돼지? 넌 누구?  _ 에그박사', 'ENG) 애완동물 기니피그 입양! 새로운가족이 생겼어요^^ cute guineapig story', \"유희열도 먹었던 '꾸이'고기\", 'CUTE ANIMALS Kuda, Bison, Horse, Tiger, Lion, 들소, 얼룩말, 말, 고양이, 사자, 기니피그', '안녕하세요 - 애완동물 56마리를 키우면서 관리는 안 하는 아들, 20140901', '천재 돼지가 열네마리의 동생 돼지들을 혼자 돌보는 법ㅋㅋㅣGenius Pig Plays With 14 Younger Piglets In This Way', '카피바라의 턱을만졌더니 ㅋㅋ수십마리가 계속 쫓아오는걸 경험했습니다. 친화력만렙 카피바라', '유모~거 품 속에 기니피그좀 봅시다!', '기니피그 미미의 목욕시간~guineapig bath time(mimi)', '심슨 부모님에게 졸라서 기니피그를 키우는 리사', \"착한 얼굴에 그렇지 못한 태도 '으드드득' 이갈면서 기선제압하는 기니피그 the master of fighting, guinea pig\", '(SUB)기니피그 기름샘, 회음낭 알고 계신가요? | 수컷 기름샘, 회음낭 닦기 | Guinea pig Boar cleaning (Perineal Sac&Grease Gland)', 'SUB)태어나서 배부름이란 걸 느껴본 적이 있을까 싶은 기니피그 30마리의 간식시간 [기니피그가 키우고 싶은가요?] 햄집사TV', '(SUB)기니피그 케이지 청소 | 데일리 청소 루틴 | 청소가 5분밖에? | 배변훈련 필요없는 집 배치 | Guinea pig Daily Cage Cleaning Routine', \"여름맞이 새단장한 기니피그 미미쥬비 집만들기 cute guineapig's summer house\"]\n"
     ]
    }
   ],
   "source": [
    "app = Flask(__name__)\n",
    "CORS(app)\n",
    "\n",
    "@app.route('/vue2pythonCrawlRequest', methods = ['GET', 'POST'])\n",
    "def vue2pythonCrawlRequest():\n",
    "    \n",
    "    params = json.loads(request.get_data(), encoding='utf-8')\n",
    "    print(\"params: \", params)\n",
    "    \n",
    "    url = \"https://www.youtube.com/results?search_query=\"\n",
    "    \n",
    "    # hidden 옵션(눈에 보이지 않고 은신 상태로 동작함)\n",
    "    options = webdriver.ChromeOptions()\n",
    "    options.add_argument('--headless')\n",
    "    options.add_argument('--window-size=1024,768')\n",
    "    options.add_argument('--disable-gpu')\n",
    "\n",
    "    driver = webdriver.Chrome(r\"C:\\chromedriver_win32\\chromedriver.exe\", options = options)\n",
    "    \n",
    "    search_url = url + params['search_keyword']\n",
    "    driver.get(url = search_url)\n",
    "\n",
    "    allTitles = driver.find_elements_by_id(\"video-title\")\n",
    "    titles = []\n",
    "\n",
    "    for item in allTitles:\n",
    "        if (item != ''):\n",
    "            titles.append(item.get_attribute('title'))\n",
    "\n",
    "    print(titles)\n",
    "    # hidden일지라도 리소스가 사용되므로 모든 작업이 완료되었으면 종료함\n",
    "    driver.close()\n",
    "    \n",
    "    return jsonify(titles)\n",
    "    \n",
    "if __name__ == \"__main__\":\n",
    "    app.run()"
   ]
  },
  {
   "cell_type": "code",
   "execution_count": null,
   "id": "35a4978c",
   "metadata": {},
   "outputs": [],
   "source": []
  }
 ],
 "metadata": {
  "kernelspec": {
   "display_name": "Python 3",
   "language": "python",
   "name": "python3"
  },
  "language_info": {
   "codemirror_mode": {
    "name": "ipython",
    "version": 3
   },
   "file_extension": ".py",
   "mimetype": "text/x-python",
   "name": "python",
   "nbconvert_exporter": "python",
   "pygments_lexer": "ipython3",
   "version": "3.8.8"
  }
 },
 "nbformat": 4,
 "nbformat_minor": 5
}
