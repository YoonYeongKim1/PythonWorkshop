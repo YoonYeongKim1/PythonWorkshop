{
 "cells": [
  {
   "cell_type": "code",
   "execution_count": 1,
   "id": "b1d9f58b",
   "metadata": {},
   "outputs": [
    {
     "name": "stdout",
     "output_type": "stream",
     "text": [
      "<function times at 0x000001F97D5DF160>\n",
      "100\n",
      "<class 'function'>\n"
     ]
    }
   ],
   "source": [
    "def times(a, b):\n",
    "    return a * b\n",
    "\n",
    "# 보통 파이썬 밖에선 이렇게 썼다. (데이터타입 대신 def, 중괄호, return 타입 없음)\n",
    "# int times(int a, int b) {\n",
    "#     return a * b;\n",
    "# }\n",
    "\n",
    "print(times)\n",
    "print(times(10, 10))\n",
    "print(type(times))"
   ]
  },
  {
   "cell_type": "code",
   "execution_count": 2,
   "id": "3ca40cae",
   "metadata": {
    "scrolled": true
   },
   "outputs": [
    {
     "name": "stdout",
     "output_type": "stream",
     "text": [
      "{'__name__': '__main__', '__doc__': 'Automatically created module for IPython interactive environment', '__package__': None, '__loader__': None, '__spec__': None, '__builtin__': <module 'builtins' (built-in)>, '__builtins__': <module 'builtins' (built-in)>, '_ih': ['', 'def times(a, b):\\n    return a * b\\n\\nprint(times)\\nprint(times(10, 10))\\nprint(type(times))', 'print(globals())'], '_oh': {}, '_dh': ['C:\\\\Users\\\\82103\\\\python_works\\\\PythonWorkshop'], 'In': ['', 'def times(a, b):\\n    return a * b\\n\\nprint(times)\\nprint(times(10, 10))\\nprint(type(times))', 'print(globals())'], 'Out': {}, 'get_ipython': <bound method InteractiveShell.get_ipython of <ipykernel.zmqshell.ZMQInteractiveShell object at 0x000001F97D511850>>, 'exit': <IPython.core.autocall.ZMQExitAutocall object at 0x000001F97D582580>, 'quit': <IPython.core.autocall.ZMQExitAutocall object at 0x000001F97D582580>, '_': '', '__': '', '___': '', '_i': 'def times(a, b):\\n    return a * b\\n\\nprint(times)\\nprint(times(10, 10))\\nprint(type(times))', '_ii': '', '_iii': '', '_i1': 'def times(a, b):\\n    return a * b\\n\\nprint(times)\\nprint(times(10, 10))\\nprint(type(times))', 'times': <function times at 0x000001F97D5DF160>, '_i2': 'print(globals())'}\n"
     ]
    }
   ],
   "source": [
    "print(globals())"
   ]
  },
  {
   "cell_type": "code",
   "execution_count": 3,
   "id": "96d77ce3",
   "metadata": {},
   "outputs": [
    {
     "name": "stdout",
     "output_type": "stream",
     "text": [
      "100\n"
     ]
    }
   ],
   "source": [
    "# 위에서 times라는 함수의 주소는 0x000001F97D5DF160로 출력되었다.\n",
    "# 이것을 가상메모리 관점으로 설명하자면\n",
    "\n",
    "# 가상 메모리 : 일반적으로 리눅스, 맥, 윈도우의 운영체제는\n",
    "# 가상 메모리를 물리 메모리로 변환하는 페이징(Paging) 매커니즘을 기반으로 동작한다.\n",
    "# 즉 우리가 보고 있는 모든 주소값(포인터)는 전부 가상메모리다.\n",
    "\n",
    "# Stack(스택), Heap(힙), Data(데이터), Text 혹은 Code(텍스트 혹은 코드)\n",
    "# Stack = 지역 변수가 배치되는 영역, 가상 메모리의 최상단에 배치\n",
    "# Heap = new, malloc(C계열)로 할당된 메모리들이 배치\n",
    "# Stack 과 Heap의 차이 = Stack은 위에서 아래로, Heap은 아래에서 위로 올라가는 구조\n",
    "# Data = 전역 변수가 배치되는 영역, Heap 아래쪽에 위치하고 Text 위에 있다.\n",
    "# Text = 우리가 사용하는 프로그램의 기계어(어셈블리어)에 해당함, 가상 메모리의 최하단에 배치\n",
    "\n",
    "# 우리가 사용하는 모든 데이터는 메모리에 올라가야 우리의 눈에 보인다. (가상 ---> 물리)\n",
    "\n",
    "# [0]   [1]   [2]   [3]   [4]   프로그램 편의상의 인덱스(가상)\n",
    "# 0xb0 0xb4  0xb8  0xbc  0xc0   메모리 주소(실제 하드웨어)\n",
    "# 데이터들                      특정 메모리 주소 안에 데이터들이 들어있는 것임\n",
    "\n",
    "pointerOfFunction = times\n",
    "res = pointerOfFunction(10, 10) # Java interface는 내부적으로 요렇게 구현됨\n",
    "print(res)"
   ]
  },
  {
   "cell_type": "code",
   "execution_count": 11,
   "id": "53e3f06e",
   "metadata": {},
   "outputs": [
    {
     "name": "stdout",
     "output_type": "stream",
     "text": [
      "Hello 이것이 Java interface이자 C언어 함수 포인터의 묘미!\n"
     ]
    }
   ],
   "source": [
    "def test():\n",
    "    return \"Hello 이것이 Java interface이자 C언어 함수 포인터의 묘미!\"\n",
    "\n",
    "# C++로 치면 virtual이 interface와 같은 역할을 수행함\n",
    "# 실제 C로 작성할 경우 리턴 타입과 파라미터를 맞춰야 해서\n",
    "# 굉장히 해괴한 문법을 사용하게 되는 반면\n",
    "# 파이썬은 아래오 ㅏ같이 아주 편하게 작성이 가능하다.\n",
    "\n",
    "# ex) C계열에서 signal이라는 인터럽트 함수가 있는데 프로토타입이 아래와 같다.\n",
    "# (void) (* signal(int signo, void (* handler)(int)))(int);\n",
    "# 리턴 타입 void (*)(int)\n",
    "# 입력 int signo, void (* handler)(int)\n",
    "# 분리하고 보면 리턴타입이 함수 포인터\n",
    "# 이름은 시그널\n",
    "# 입력은 정수형과 함수 포인터임을 볼 수 있으나\n",
    "# 초기 프로토타입 형태로는 굉장히 해괴한 문법이 구성되어 있음을 볼 수 있다.\n",
    "# (void) ( * signal(int signo, void ( * handler)(int)));\n",
    "\n",
    "pointerOfFunction = test\n",
    "res = pointerOfFunction()\n",
    "print(res)"
   ]
  },
  {
   "cell_type": "code",
   "execution_count": 13,
   "id": "80365692",
   "metadata": {},
   "outputs": [
    {
     "name": "stdout",
     "output_type": "stream",
     "text": [
      "['p', 'p', 'e']\n"
     ]
    }
   ],
   "source": [
    "#------------------------------------\n",
    "def intersect(prelist, postlist):\n",
    "    retList = []\n",
    "    \n",
    "    for x in prelist: # 'Apple'에서 값을 뽑아온다. x = A\n",
    "        if x in postlist: # 'grape'에서 값을 뽑아와서 . x = g 위와 비교 후 같은 값이면 append(추가)한다.\n",
    "            retList.append(x)\n",
    "            \n",
    "    return retList\n",
    "#-----------------------------------여기까지 메서드\n",
    "    \n",
    "list1 = 'Apple'\n",
    "list2 = 'grape'\n",
    "\n",
    "print(intersect(list1, list2)) # list1 = prelist / list2 = postlist\n",
    "#------------------------------------코드실행"
   ]
  },
  {
   "cell_type": "code",
   "execution_count": 14,
   "id": "4e97d3f3",
   "metadata": {},
   "outputs": [
    {
     "name": "stdout",
     "output_type": "stream",
     "text": [
      "['A']\n"
     ]
    }
   ],
   "source": [
    "print(intersect(list1, ['H', 'A', 'M']))"
   ]
  },
  {
   "cell_type": "code",
   "execution_count": 15,
   "id": "c38929af",
   "metadata": {},
   "outputs": [
    {
     "name": "stdout",
     "output_type": "stream",
     "text": [
      "(7, 3)\n"
     ]
    }
   ],
   "source": [
    "# 변수 값 바꾸기. Java에서는 tmp를 사용해서 번거로웠는데 바로 바꿀 수 있다.(편리)\n",
    "def swap(x, y):\n",
    "    # 원래 리턴은 하나만 할 수 있는데 파이썬은 한 개 이상 리턴이 가능하다.(편리)\n",
    "    return y, x\n",
    "\n",
    "print(swap(3, 7))"
   ]
  },
  {
   "cell_type": "code",
   "execution_count": 16,
   "id": "2758df73",
   "metadata": {},
   "outputs": [
    {
     "name": "stdout",
     "output_type": "stream",
     "text": [
      "77\n",
      "33\n"
     ]
    }
   ],
   "source": [
    "# 기존 Java나 C의 경우 프로그램 구조적인 부분을 고려해야하는 반면\n",
    "# 파이썬 프로그래밍은 이런 것을 일절 신경쓰지 않고\n",
    "# 그냥 머리속의 생각을 굉장히 직관적으로 표기하여 사용할 수 있다는 장점이 있음\n",
    "\n",
    "a, b = swap(33, 77)\n",
    "print(a)\n",
    "print(b)"
   ]
  },
  {
   "cell_type": "code",
   "execution_count": 17,
   "id": "da6c950d",
   "metadata": {},
   "outputs": [
    {
     "name": "stdout",
     "output_type": "stream",
     "text": [
      "(777, 333)\n",
      "<class 'tuple'>\n"
     ]
    }
   ],
   "source": [
    "# tuple\n",
    "x = swap(333, 777)\n",
    "print(x)\n",
    "print(type(x))"
   ]
  },
  {
   "cell_type": "code",
   "execution_count": 18,
   "id": "9c7b2a5c",
   "metadata": {},
   "outputs": [
    {
     "name": "stdout",
     "output_type": "stream",
     "text": [
      "6\n"
     ]
    }
   ],
   "source": [
    "# 람다식\n",
    "# 이것은 결국 함수 이름이 g 인 것과 마찬가지인 구조\n",
    "g = lambda x, y: x * y\n",
    "print(g(2, 3))"
   ]
  },
  {
   "cell_type": "code",
   "execution_count": 20,
   "id": "abfdc4d7",
   "metadata": {},
   "outputs": [
    {
     "name": "stdout",
     "output_type": "stream",
     "text": [
      "27\n"
     ]
    }
   ],
   "source": [
    "# 이와 같이 한다면 함수 객체를 저장하는 변수가 없으므로 익명 함수가 됨\n",
    "print((lambda x: x * x * x)(3)) # 3의 3승"
   ]
  },
  {
   "cell_type": "code",
   "execution_count": 21,
   "id": "ce5ccdb2",
   "metadata": {},
   "outputs": [
    {
     "name": "stdout",
     "output_type": "stream",
     "text": [
      "1\n",
      "2\n",
      "4\n"
     ]
    }
   ],
   "source": [
    "for i in range(1, 5):\n",
    "    if(i == 3):\n",
    "        pass   # pass = continue와 같다.\n",
    "    else:\n",
    "        print(i)\n"
   ]
  },
  {
   "cell_type": "code",
   "execution_count": 22,
   "id": "264a8046",
   "metadata": {},
   "outputs": [
    {
     "name": "stdout",
     "output_type": "stream",
     "text": [
      "0 1\n",
      "1 1\n",
      "2 2\n",
      "3 3\n",
      "4 5\n",
      "5 8\n",
      "6 13\n",
      "7 21\n",
      "8 34\n",
      "9 55\n",
      "10 89\n",
      "11 144\n",
      "12 233\n",
      "13 377\n",
      "14 610\n",
      "15 987\n",
      "16 1597\n",
      "17 2584\n",
      "18 4181\n",
      "19 6765\n"
     ]
    }
   ],
   "source": [
    "# 피보나치수열\n",
    "def fib():\n",
    "    a, b = 1, 1\n",
    "    \n",
    "    # for (;;) <<--- 무한 루프 조건 없으니 ---> 무조건\n",
    "    # while (1) <<--- 이것도 무조건\n",
    "    # while (참) <<--- 0이 아니면 전부 참\n",
    "    while 1:     # true\n",
    "        # yield = 현재 실행 스택 메모리를 유지하면서 결과값을 호출한 곳에 돌려준다.\n",
    "        yield a\n",
    "        a,b = b, a + b\n",
    "        \n",
    "for i, ret in enumerate(fib()):\n",
    "    if i < 20:\n",
    "        print(i, ret)\n",
    "    else:\n",
    "        break"
   ]
  },
  {
   "cell_type": "code",
   "execution_count": 23,
   "id": "27cb5388",
   "metadata": {},
   "outputs": [
    {
     "name": "stdout",
     "output_type": "stream",
     "text": [
      "6765\n"
     ]
    }
   ],
   "source": [
    "def fib2(n):\n",
    "    if n < 2:\n",
    "        return n\n",
    "    else:\n",
    "        return fib2(n - 1) + fib2(n - 2)\n",
    "    \n",
    "print(fib2(20))"
   ]
  },
  {
   "cell_type": "code",
   "execution_count": null,
   "id": "382058e5",
   "metadata": {},
   "outputs": [],
   "source": []
  }
 ],
 "metadata": {
  "kernelspec": {
   "display_name": "Python 3",
   "language": "python",
   "name": "python3"
  },
  "language_info": {
   "codemirror_mode": {
    "name": "ipython",
    "version": 3
   },
   "file_extension": ".py",
   "mimetype": "text/x-python",
   "name": "python",
   "nbconvert_exporter": "python",
   "pygments_lexer": "ipython3",
   "version": "3.8.8"
  }
 },
 "nbformat": 4,
 "nbformat_minor": 5
}
